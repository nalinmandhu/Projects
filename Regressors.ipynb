{
 "cells": [
  {
   "cell_type": "markdown",
   "id": "b7300fa7",
   "metadata": {},
   "source": [
    "# Logistic and Linear Regressors"
   ]
  },
  {
   "cell_type": "code",
   "execution_count": 24,
   "id": "25165c30",
   "metadata": {},
   "outputs": [],
   "source": [
    "import numpy as np\n",
    "import pandas as pd\n",
    "import random as random\n",
    "from matplotlib import pyplot as plt\n",
    "from sklearn.model_selection import train_test_split as tts\n",
    "import seaborn as sns\n",
    "%matplotlib inline\n",
    "\n",
    "def sigmoid(x):\n",
    "        return 1/(1+np.exp(-x))\n",
    "    \n",
    "def square_loss(y_pred, y):\n",
    "        return np.mean((np.square(y_pred - y))/2)\n",
    "    \n",
    "def normalize(x):\n",
    "        x = np.array(x)\n",
    "        mean = np.array([np.mean(x[:,i]) for i in range(x.shape[1])])\n",
    "        std = np.array([np.std(x[:,i]) for i in range(x.shape[1])])\n",
    "        norm = (x - mean)/std\n",
    "        normalized = pd.DataFrame(norm)\n",
    "        return normalized\n",
    "    \n",
    "def calculatef_score(y_prd,y_test):\n",
    "    true_pos, true_neg, false_pos, false_neg = 0,0, 0,0\n",
    "    for i in range(len(y_prd)):\n",
    "            if y_prd[i]==y_test[i]:\n",
    "                if y_prd[i]==1:\n",
    "                    true_pos +=1\n",
    "                elif y_prd[i]==0:\n",
    "                    true_neg +=1\n",
    "            else:\n",
    "                if y_prd[i]==1:\n",
    "                    false_pos +=1\n",
    "                elif y_prd[i]==0:\n",
    "                    false_neg +=1\n",
    "    precision = true_pos/(true_pos+false_neg)\n",
    "    recall = true_pos/(true_pos + false_neg)\n",
    "    fscore = 2*precision*recall/(precision+recall)\n",
    "    return fscore\n",
    "def plot_square_loss(xx,loss):\n",
    "    plt.scatter(np.array(xx),np.array(loss))\n",
    "    plt.xlabel('Iterations')\n",
    "    plt.ylabel('Square Loss')\n",
    "    plt.title('Square loss Vs. Iterations')\n",
    "    plt.show()\n",
    "def plot_both_losses(xx,loss,lg):\n",
    "    fig, (ax0, ax1) = plt.subplots(1,2, sharey=False,figsize=(11,5))\n",
    "    ax0.scatter(np.array(xx),np.array(loss))\n",
    "    ax0.set_xlabel('Iterations')\n",
    "    ax0.set_ylabel('Square Loss')\n",
    "    ax0.set_title('Square loss Vs. Iterations')\n",
    "    ax1.scatter(np.array(xx),np.array(lg))\n",
    "    ax1.set_xlabel('Iterations')\n",
    "    ax1.set_ylabel('Logg Loss')\n",
    "    ax1.set_title('Log Loss Vs. Iterations')\n",
    "    plt.show()  "
   ]
  },
  {
   "cell_type": "markdown",
   "id": "e9cad8c4",
   "metadata": {},
   "source": [
    "## Logistic Regressor"
   ]
  },
  {
   "cell_type": "code",
   "execution_count": 25,
   "id": "6c17f8b0",
   "metadata": {},
   "outputs": [],
   "source": [
    "def logistic_regression(lr,X,Y):\n",
    "    loss=[]   \n",
    "    X = normalize(X)\n",
    "    X['b_'] = [1 for i in range(X.shape[0])]      #to take care of b\n",
    "    X_train, X_test, y_train, y_test = tts(X,Y,test_size=0.2, random_state=2)\n",
    "    y_train, y_test = np.array(y_train), np.array(y_test)\n",
    "    W = []\n",
    "    for i in range(X_train.shape[1]):          \n",
    "        W.append(random.uniform(0,1))\n",
    "    W = np.array(W)\n",
    "    xx = []\n",
    "    lg = []\n",
    "    for i in range(15000):\n",
    "        z = np.dot(X_train,W.T)\n",
    "        y_pred = sigmoid(z)\n",
    "        log_loss = np.mean(-np.dot(y_train,np.log(y_pred))-np.dot((1-y_train),np.log(1-y_pred)))\n",
    "        loss.append(square_loss(y_pred,y_train))\n",
    "        W -= lr*np.dot((y_pred - y_train),X_train)/X_train.shape[0]             #performed gradient descent on logloss\n",
    "        xx.append(i)\n",
    "        lg.append(log_loss)\n",
    "    plot_both_losses(xx,loss,lg)    \n",
    "    zz= np.dot(X_test, np.transpose(W))\n",
    "    y_predi = sigmoid(zz)\n",
    "    y_prd = []\n",
    "    for term in y_predi:\n",
    "        if term>=0.5:\n",
    "            y_prd.append(1)\n",
    "        elif term<0.5:\n",
    "            y_prd.append(0)\n",
    "            \n",
    "    print('F-score for learning rate','{}'.format(lr), ': ',calculatef_score(y_prd,y_test))"
   ]
  },
  {
   "cell_type": "code",
   "execution_count": 26,
   "id": "1e0a91b0",
   "metadata": {
    "scrolled": false
   },
   "outputs": [
    {
     "data": {
      "image/png": "[encoded data removed]",
      "text/plain": [
       "<Figure size 792x360 with 2 Axes>"
      ]
     },
     "metadata": {
      "needs_background": "light"
     },
     "output_type": "display_data"
    },
    {
     "name": "stdout",
     "output_type": "stream",
     "text": [
      "F-score for learning rate 0.1 :  0.5\n"
     ]
    }
   ],
   "source": [
    "df = pd.DataFrame({'age': [22,25,47,52, 46,56,55,60,62,61,18,28,27,29,49,55,25,58,19,18,21,26,40,45,50,54,23],\n",
    "                   'bought_insurance':[1,0,1,0,1,1,0,1,1,1,0,1,0,0,1,1,1,1,0,0,0,0,1,1,1,1,0]})\n",
    "logistic_regression(0.1,df[['age']],df['bought_insurance'])"
   ]
  },
  {
   "cell_type": "markdown",
   "id": "806ab8c0",
   "metadata": {},
   "source": [
    "## Linear Regressor"
   ]
  },
  {
   "cell_type": "code",
   "execution_count": 26,
   "id": "5db11054",
   "metadata": {},
   "outputs": [],
   "source": [
    "def linear_regression(lr, X, Y):\n",
    "    X = normalize(X)\n",
    "    X.insert(0,'b_',[1 for i in range(X.shape[0])])\n",
    "    X_train, X_test, y_train, y_test = tts(X,Y,test_size=0.2, random_state=2)\n",
    "    W = np.array([random.uniform(0,1) for i in range(X_test.shape[1])])\n",
    "    y_train, y_test = np.array(y_train), np.array(y_test)\n",
    "    loss = []\n",
    "    xx = []\n",
    "    for i in range(10000):\n",
    "        y_pred = np.array(np.dot(X_train, W.T))\n",
    "        loss.append(square_loss(y_pred, y_train))\n",
    "        W -= lr*np.dot((y_pred-y_train),X_train)/X_train.shape[0]\n",
    "        xx.append(i)\n",
    "    plot_square_loss(xx,loss)\n",
    "    y_prediction = np.dot(X_test, W.T)\n",
    "    mse = np.mean(np.sum(np.square(y_test-y_prediction)))\n",
    "    print('Mean square Error: ',mse)\n",
    "    print('Intercept: ',W[0])\n",
    "    if len(W)==2:\n",
    "        print('Coefficient: ',W[1])\n",
    "    else:\n",
    "        print('Coefficients: ',list(W[1:]))"
   ]
  },
  {
   "cell_type": "code",
   "execution_count": 28,
   "id": "759ce8e9",
   "metadata": {},
   "outputs": [
    {
     "data": {
      "image/png": "[encoded data removed]",
      "text/plain": [
       "<Figure size 432x288 with 1 Axes>"
      ]
     },
     "metadata": {
      "needs_background": "light"
     },
     "output_type": "display_data"
    },
    {
     "name": "stdout",
     "output_type": "stream",
     "text": [
      "Mean square Error:  1.4360518118310628\n",
      "Intercept:  0.5420001616945594\n",
      "Coefficient:  0.3410290113637213\n"
     ]
    }
   ],
   "source": [
    "df = pd.DataFrame({'age': [22,25,47,52, 46,56,55,60,62,61,18,28,27,29,49,55,25,58,19,18,21,26,40,45,50,54,23],\n",
    "                   'bought_insurance':[1,0,1,0,1,1,0,1,1,1,0,1,0,0,1,1,1,1,0,0,0,0,1,1,1,1,0]})\n",
    "linear_regression(0.1,df[['age']],df['bought_insurance'])"
   ]
  },
  {
   "cell_type": "markdown",
   "id": "cd78ec63",
   "metadata": {},
   "source": [
    "## Linear Regressor with Regularization"
   ]
  },
  {
   "cell_type": "code",
   "execution_count": 49,
   "id": "8e9dfa03",
   "metadata": {},
   "outputs": [],
   "source": [
    "import numpy as np\n",
    "import pandas as pd\n",
    "import random as random\n",
    "from matplotlib import pyplot as plt\n",
    "from sklearn.model_selection import train_test_split as tts\n",
    "def linear_regression_with_regularization(lr, X, Y, lambda_):\n",
    "    X = normalize(X)\n",
    "    X_train, X_test, y_train, y_test = tts(X,Y,test_size=0.2, random_state=2)\n",
    "    W = np.array([random.uniform(0,1) for i in range(X_test.shape[1])])\n",
    "    y_train, y_test = np.array(y_train), np.array(y_test)\n",
    "    b = random.uniform(0,1)\n",
    "    loss = []\n",
    "    xx = []\n",
    "    for i in range(30000):\n",
    "        y_pred = np.array(np.dot(X_train, W.T)+b)\n",
    "        loss.append(square_loss(y_pred, y_train)+(((np.sum(np.square(W)))*lambda_)/(2*X_train.shape[0])))\n",
    "        W -= lr*((np.dot((y_pred-y_train),X_train)+lambda_*W)/X_train.shape[0])\n",
    "        b -= lr*(np.sum(y_pred-y_train))/X_train.shape[0]\n",
    "        xx.append(i)\n",
    "    plot_square_loss(xx,loss)\n",
    "    y_prediction = np.dot(X_test, W.T)+b\n",
    "    mse = np.mean(np.sum(np.square(y_test-y_prediction)))\n",
    "    print('Mean square error for learning rate','{}'.format(lr),'and regularizing parameter {}'.format(lambda_), ': ',mse)\n",
    "    print('Intercept: ',b)\n",
    "    if len(W)==1:\n",
    "        print('Coefficient: ',W[0])\n",
    "    else:\n",
    "        print('Coefficients: ',list(W))\n",
    "    return y_prediction"
   ]
  },
  {
   "cell_type": "code",
   "execution_count": 30,
   "id": "f3e7dcb6",
   "metadata": {},
   "outputs": [
    {
     "data": {
      "image/png": "[encoded data removed]",
      "text/plain": [
       "<Figure size 432x288 with 1 Axes>"
      ]
     },
     "metadata": {
      "needs_background": "light"
     },
     "output_type": "display_data"
    },
    {
     "name": "stdout",
     "output_type": "stream",
     "text": [
      "Mean square error for learning rate 0.1 and regularizing parameter 0.7 :  1.4056824232984224\n",
      "Intercept:  0.5430081372578569\n",
      "Coefficient:  0.32934815898544334\n"
     ]
    }
   ],
   "source": [
    "\n",
    "df = pd.DataFrame({'age': [22,25,47,52, 46,56,55,60,62,61,18,28,27,29,49,55,25,58,19,18,21,26,40,45,50,54,23],\n",
    "                   'bought_insurance':[1,0,1,0,1,1,0,1,1,1,0,1,0,0,1,1,1,1,0,0,0,0,1,1,1,1,0]})\n",
    "linear_regression_with_regularization(0.1,df[['age']],df['bought_insurance'],0.7)"
   ]
  },
  {
   "cell_type": "markdown",
   "id": "65af5532",
   "metadata": {},
   "source": [
    "## Logistic Regressor with Regularization"
   ]
  },
  {
   "cell_type": "code",
   "execution_count": 47,
   "id": "f0d2365a",
   "metadata": {},
   "outputs": [],
   "source": [
    "def logistic_regression_with_regularization(lr,X,Y, lambda_):\n",
    "    loss=[]\n",
    "    X = normalize(X)\n",
    "    b = random.uniform(0,1)      #to take care of b\n",
    "    X_train, X_test, y_train, y_test = tts(X,Y,test_size=0.2, random_state=2)\n",
    "    y_train, y_test = np.array(y_train), np.array(y_test)\n",
    "    W = np.array([random.uniform(0,1) for i in range(X_train.shape[1])])\n",
    "    xx = []\n",
    "    lg = []\n",
    "    for i in range(50000):\n",
    "        z = np.dot(X_train,W.T)+b\n",
    "        y_pred = sigmoid(z)\n",
    "        y_prd = []\n",
    "    \n",
    "        for term in y_pred:\n",
    "            if term>=0.5:\n",
    "                y_prd.append(1)\n",
    "            elif term<0.5:\n",
    "                y_prd.append(0)\n",
    "        log_loss = ((-np.dot(y_train,np.log(y_pred))-np.dot((1-y_train),np.log(1-y_pred)))+\n",
    "                   (np.sum(np.square(W))*lambda_/2))/X_train.shape[0]\n",
    "        loss.append(square_loss(np.array(y_prd),y_train)+(np.sum(np.square(W))*lambda_/(2*X_train.shape[0])))\n",
    "        W -= lr*((np.dot((y_pred - y_train),X_train)+(lambda_*W))/X_train.shape[0])   #performed gradient descent on logloss\n",
    "        b-=  lr*np.sum(y_pred-y_train)/X_train.shape[0]\n",
    "        xx.append(i)\n",
    "        lg.append(log_loss)\n",
    "    plot_both_losses(xx,loss,lg)   \n",
    "    zz= np.dot(X_test, np.transpose(W))+b\n",
    "    y_predi = sigmoid(zz)\n",
    "    y_prd = []\n",
    "    \n",
    "    for term in y_predi:\n",
    "        if term>=0.5:\n",
    "            y_prd.append(1)\n",
    "        elif term<0.5:\n",
    "            y_prd.append(0)\n",
    "            \n",
    "    print('F-score for learning rate','{}'.format(lr),'and regularizing parameter {}'.format(lambda_), ': ',calculatef_score(y_prd,y_test))"
   ]
  },
  {
   "cell_type": "code",
   "execution_count": 32,
   "id": "c16308b1",
   "metadata": {
    "scrolled": true
   },
   "outputs": [
    {
     "data": {
      "image/png": "[encoded data removed]",
      "text/plain": [
       "<Figure size 792x360 with 2 Axes>"
      ]
     },
     "metadata": {
      "needs_background": "light"
     },
     "output_type": "display_data"
    },
    {
     "name": "stdout",
     "output_type": "stream",
     "text": [
      "F-score for learning rate 0.1 and regularizing parameter 0.7 :  0.5\n"
     ]
    }
   ],
   "source": [
    "df = pd.DataFrame({'age': [22,25,47,52, 46,56,55,60,62,61,18,28,27,29,49,55,25,58,19,18,21,26,40,45,50,54,23],\n",
    "                   'bought_insurance':[1,0,1,0,1,1,0,1,1,1,0,1,0,0,1,1,1,1,0,0,0,0,1,1,1,1,0]})\n",
    "logistic_regression_with_regularization(0.1,df[['age']],df['bought_insurance'],0.7)"
   ]
  },
  {
   "cell_type": "code",
   "execution_count": 22,
   "id": "5484e94b",
   "metadata": {},
   "outputs": [
    {
     "data": {
      "text/html": [
       "<div>\n",
       "<style scoped>\n",
       "    .dataframe tbody tr th:only-of-type {\n",
       "        vertical-align: middle;\n",
       "    }\n",
       "\n",
       "    .dataframe tbody tr th {\n",
       "        vertical-align: top;\n",
       "    }\n",
       "\n",
       "    .dataframe thead th {\n",
       "        text-align: right;\n",
       "    }\n",
       "</style>\n",
       "<table border=\"1\" class=\"dataframe\">\n",
       "  <thead>\n",
       "    <tr style=\"text-align: right;\">\n",
       "      <th></th>\n",
       "      <th>age</th>\n",
       "      <th>sex</th>\n",
       "      <th>bmi</th>\n",
       "      <th>children</th>\n",
       "      <th>smoker</th>\n",
       "      <th>region</th>\n",
       "      <th>charges</th>\n",
       "    </tr>\n",
       "  </thead>\n",
       "  <tbody>\n",
       "    <tr>\n",
       "      <th>0</th>\n",
       "      <td>19</td>\n",
       "      <td>female</td>\n",
       "      <td>27.900</td>\n",
       "      <td>0</td>\n",
       "      <td>yes</td>\n",
       "      <td>southwest</td>\n",
       "      <td>16884.92400</td>\n",
       "    </tr>\n",
       "    <tr>\n",
       "      <th>1</th>\n",
       "      <td>18</td>\n",
       "      <td>male</td>\n",
       "      <td>33.770</td>\n",
       "      <td>1</td>\n",
       "      <td>no</td>\n",
       "      <td>southeast</td>\n",
       "      <td>1725.55230</td>\n",
       "    </tr>\n",
       "    <tr>\n",
       "      <th>2</th>\n",
       "      <td>28</td>\n",
       "      <td>male</td>\n",
       "      <td>33.000</td>\n",
       "      <td>3</td>\n",
       "      <td>no</td>\n",
       "      <td>southeast</td>\n",
       "      <td>4449.46200</td>\n",
       "    </tr>\n",
       "    <tr>\n",
       "      <th>3</th>\n",
       "      <td>33</td>\n",
       "      <td>male</td>\n",
       "      <td>22.705</td>\n",
       "      <td>0</td>\n",
       "      <td>no</td>\n",
       "      <td>northwest</td>\n",
       "      <td>21984.47061</td>\n",
       "    </tr>\n",
       "    <tr>\n",
       "      <th>4</th>\n",
       "      <td>32</td>\n",
       "      <td>male</td>\n",
       "      <td>28.880</td>\n",
       "      <td>0</td>\n",
       "      <td>no</td>\n",
       "      <td>northwest</td>\n",
       "      <td>3866.85520</td>\n",
       "    </tr>\n",
       "    <tr>\n",
       "      <th>5</th>\n",
       "      <td>31</td>\n",
       "      <td>female</td>\n",
       "      <td>25.740</td>\n",
       "      <td>0</td>\n",
       "      <td>no</td>\n",
       "      <td>southeast</td>\n",
       "      <td>3756.62160</td>\n",
       "    </tr>\n",
       "    <tr>\n",
       "      <th>6</th>\n",
       "      <td>46</td>\n",
       "      <td>female</td>\n",
       "      <td>33.440</td>\n",
       "      <td>1</td>\n",
       "      <td>no</td>\n",
       "      <td>southeast</td>\n",
       "      <td>8240.58960</td>\n",
       "    </tr>\n",
       "    <tr>\n",
       "      <th>7</th>\n",
       "      <td>37</td>\n",
       "      <td>female</td>\n",
       "      <td>27.740</td>\n",
       "      <td>3</td>\n",
       "      <td>no</td>\n",
       "      <td>northwest</td>\n",
       "      <td>7281.50560</td>\n",
       "    </tr>\n",
       "    <tr>\n",
       "      <th>8</th>\n",
       "      <td>37</td>\n",
       "      <td>male</td>\n",
       "      <td>29.830</td>\n",
       "      <td>2</td>\n",
       "      <td>no</td>\n",
       "      <td>northeast</td>\n",
       "      <td>6406.41070</td>\n",
       "    </tr>\n",
       "    <tr>\n",
       "      <th>9</th>\n",
       "      <td>60</td>\n",
       "      <td>female</td>\n",
       "      <td>25.840</td>\n",
       "      <td>0</td>\n",
       "      <td>no</td>\n",
       "      <td>northwest</td>\n",
       "      <td>28923.13692</td>\n",
       "    </tr>\n",
       "    <tr>\n",
       "      <th>10</th>\n",
       "      <td>25</td>\n",
       "      <td>male</td>\n",
       "      <td>26.220</td>\n",
       "      <td>0</td>\n",
       "      <td>no</td>\n",
       "      <td>northeast</td>\n",
       "      <td>2721.32080</td>\n",
       "    </tr>\n",
       "    <tr>\n",
       "      <th>11</th>\n",
       "      <td>62</td>\n",
       "      <td>female</td>\n",
       "      <td>26.290</td>\n",
       "      <td>0</td>\n",
       "      <td>yes</td>\n",
       "      <td>southeast</td>\n",
       "      <td>27808.72510</td>\n",
       "    </tr>\n",
       "    <tr>\n",
       "      <th>12</th>\n",
       "      <td>23</td>\n",
       "      <td>male</td>\n",
       "      <td>34.400</td>\n",
       "      <td>0</td>\n",
       "      <td>no</td>\n",
       "      <td>southwest</td>\n",
       "      <td>1826.84300</td>\n",
       "    </tr>\n",
       "    <tr>\n",
       "      <th>13</th>\n",
       "      <td>56</td>\n",
       "      <td>female</td>\n",
       "      <td>39.820</td>\n",
       "      <td>0</td>\n",
       "      <td>no</td>\n",
       "      <td>southeast</td>\n",
       "      <td>11090.71780</td>\n",
       "    </tr>\n",
       "    <tr>\n",
       "      <th>14</th>\n",
       "      <td>27</td>\n",
       "      <td>male</td>\n",
       "      <td>42.130</td>\n",
       "      <td>0</td>\n",
       "      <td>yes</td>\n",
       "      <td>southeast</td>\n",
       "      <td>39611.75770</td>\n",
       "    </tr>\n",
       "  </tbody>\n",
       "</table>\n",
       "</div>"
      ],
      "text/plain": [
       "    age     sex     bmi  children smoker     region      charges\n",
       "0    19  female  27.900         0    yes  southwest  16884.92400\n",
       "1    18    male  33.770         1     no  southeast   1725.55230\n",
       "2    28    male  33.000         3     no  southeast   4449.46200\n",
       "3    33    male  22.705         0     no  northwest  21984.47061\n",
       "4    32    male  28.880         0     no  northwest   3866.85520\n",
       "5    31  female  25.740         0     no  southeast   3756.62160\n",
       "6    46  female  33.440         1     no  southeast   8240.58960\n",
       "7    37  female  27.740         3     no  northwest   7281.50560\n",
       "8    37    male  29.830         2     no  northeast   6406.41070\n",
       "9    60  female  25.840         0     no  northwest  28923.13692\n",
       "10   25    male  26.220         0     no  northeast   2721.32080\n",
       "11   62  female  26.290         0    yes  southeast  27808.72510\n",
       "12   23    male  34.400         0     no  southwest   1826.84300\n",
       "13   56  female  39.820         0     no  southeast  11090.71780\n",
       "14   27    male  42.130         0    yes  southeast  39611.75770"
      ]
     },
     "execution_count": 22,
     "metadata": {},
     "output_type": "execute_result"
    }
   ],
   "source": [
    "data  = pd.read_csv(r\"C:\\Users\\nalin\\Downloads\\insurance.csv\")\n",
    "data.head(15)"
   ]
  },
  {
   "cell_type": "code",
   "execution_count": 9,
   "id": "6cce0e97",
   "metadata": {},
   "outputs": [
    {
     "data": {
      "text/plain": [
       "{'whiskers': [<matplotlib.lines.Line2D at 0x1f62918f2b0>,\n",
       "  <matplotlib.lines.Line2D at 0x1f62918f640>],\n",
       " 'caps': [<matplotlib.lines.Line2D at 0x1f62918f9d0>,\n",
       "  <matplotlib.lines.Line2D at 0x1f62918fd60>],\n",
       " 'boxes': [<matplotlib.lines.Line2D at 0x1f629183ee0>],\n",
       " 'medians': [<matplotlib.lines.Line2D at 0x1f62919d130>],\n",
       " 'fliers': [<matplotlib.lines.Line2D at 0x1f62919d4c0>],\n",
       " 'means': []}"
      ]
     },
     "execution_count": 9,
     "metadata": {},
     "output_type": "execute_result"
    },
    {
     "data": {
      "image/png": "[encoded data removed]",
      "text/plain": [
       "<Figure size 504x288 with 2 Axes>"
      ]
     },
     "metadata": {
      "needs_background": "light"
     },
     "output_type": "display_data"
    }
   ],
   "source": [
    "fig, axes = plt.subplots(1, 2, sharex=False, sharey = False, figsize=(7,4))\n",
    "axes[0].boxplot(data['age'])\n",
    "axes[1].boxplot(data['children'])"
   ]
  },
  {
   "cell_type": "code",
   "execution_count": 12,
   "id": "34f6367f",
   "metadata": {},
   "outputs": [
    {
     "data": {
      "text/plain": [
       "<AxesSubplot:xlabel='bmi', ylabel='charges'>"
      ]
     },
     "execution_count": 12,
     "metadata": {},
     "output_type": "execute_result"
    },
    {
     "data": {
      "image/png": "[encoded data removed]",
      "text/plain": [
       "<Figure size 432x288 with 1 Axes>"
      ]
     },
     "metadata": {
      "needs_background": "light"
     },
     "output_type": "display_data"
    }
   ],
   "source": [
    "sns.scatterplot(data = data, x='bmi',y= 'charges')"
   ]
  },
  {
   "cell_type": "code",
   "execution_count": 13,
   "id": "6b3b64d3",
   "metadata": {},
   "outputs": [
    {
     "data": {
      "text/plain": [
       "age         0\n",
       "sex         0\n",
       "bmi         0\n",
       "children    0\n",
       "smoker      0\n",
       "region      0\n",
       "charges     0\n",
       "dtype: int64"
      ]
     },
     "execution_count": 13,
     "metadata": {},
     "output_type": "execute_result"
    }
   ],
   "source": [
    "data.isnull().sum()"
   ]
  },
  {
   "cell_type": "code",
   "execution_count": 39,
   "id": "f031f727",
   "metadata": {},
   "outputs": [],
   "source": [
    "data1 = data[data['charges']<52000]"
   ]
  },
  {
   "cell_type": "code",
   "execution_count": 41,
   "id": "cc230e33",
   "metadata": {},
   "outputs": [
    {
     "data": {
      "text/plain": [
       "region   \n",
       "southeast    362\n",
       "southwest    324\n",
       "northeast    323\n",
       "northwest    323\n",
       "dtype: int64"
      ]
     },
     "execution_count": 41,
     "metadata": {},
     "output_type": "execute_result"
    }
   ],
   "source": [
    "data1[['region']].value_counts()"
   ]
  },
  {
   "cell_type": "code",
   "execution_count": 42,
   "id": "f76746b5",
   "metadata": {},
   "outputs": [
    {
     "name": "stdout",
     "output_type": "stream",
     "text": [
      "      smoker_no  smoker_yes\n",
      "0             0           1\n",
      "1             1           0\n",
      "2             1           0\n",
      "3             1           0\n",
      "4             1           0\n",
      "...         ...         ...\n",
      "1333          1           0\n",
      "1334          1           0\n",
      "1335          1           0\n",
      "1336          1           0\n",
      "1337          0           1\n",
      "\n",
      "[1332 rows x 2 columns]\n",
      "      female  male\n",
      "0          1     0\n",
      "1          0     1\n",
      "2          0     1\n",
      "3          0     1\n",
      "4          0     1\n",
      "...      ...   ...\n",
      "1333       0     1\n",
      "1334       1     0\n",
      "1335       1     0\n",
      "1336       1     0\n",
      "1337       1     0\n",
      "\n",
      "[1332 rows x 2 columns]\n"
     ]
    },
    {
     "data": {
      "text/html": [
       "<div>\n",
       "<style scoped>\n",
       "    .dataframe tbody tr th:only-of-type {\n",
       "        vertical-align: middle;\n",
       "    }\n",
       "\n",
       "    .dataframe tbody tr th {\n",
       "        vertical-align: top;\n",
       "    }\n",
       "\n",
       "    .dataframe thead th {\n",
       "        text-align: right;\n",
       "    }\n",
       "</style>\n",
       "<table border=\"1\" class=\"dataframe\">\n",
       "  <thead>\n",
       "    <tr style=\"text-align: right;\">\n",
       "      <th></th>\n",
       "      <th>northeast</th>\n",
       "      <th>northwest</th>\n",
       "      <th>southeast</th>\n",
       "      <th>southwest</th>\n",
       "    </tr>\n",
       "  </thead>\n",
       "  <tbody>\n",
       "    <tr>\n",
       "      <th>0</th>\n",
       "      <td>0</td>\n",
       "      <td>0</td>\n",
       "      <td>0</td>\n",
       "      <td>1</td>\n",
       "    </tr>\n",
       "    <tr>\n",
       "      <th>1</th>\n",
       "      <td>0</td>\n",
       "      <td>0</td>\n",
       "      <td>1</td>\n",
       "      <td>0</td>\n",
       "    </tr>\n",
       "    <tr>\n",
       "      <th>2</th>\n",
       "      <td>0</td>\n",
       "      <td>0</td>\n",
       "      <td>1</td>\n",
       "      <td>0</td>\n",
       "    </tr>\n",
       "    <tr>\n",
       "      <th>3</th>\n",
       "      <td>0</td>\n",
       "      <td>1</td>\n",
       "      <td>0</td>\n",
       "      <td>0</td>\n",
       "    </tr>\n",
       "    <tr>\n",
       "      <th>4</th>\n",
       "      <td>0</td>\n",
       "      <td>1</td>\n",
       "      <td>0</td>\n",
       "      <td>0</td>\n",
       "    </tr>\n",
       "    <tr>\n",
       "      <th>...</th>\n",
       "      <td>...</td>\n",
       "      <td>...</td>\n",
       "      <td>...</td>\n",
       "      <td>...</td>\n",
       "    </tr>\n",
       "    <tr>\n",
       "      <th>1333</th>\n",
       "      <td>0</td>\n",
       "      <td>1</td>\n",
       "      <td>0</td>\n",
       "      <td>0</td>\n",
       "    </tr>\n",
       "    <tr>\n",
       "      <th>1334</th>\n",
       "      <td>1</td>\n",
       "      <td>0</td>\n",
       "      <td>0</td>\n",
       "      <td>0</td>\n",
       "    </tr>\n",
       "    <tr>\n",
       "      <th>1335</th>\n",
       "      <td>0</td>\n",
       "      <td>0</td>\n",
       "      <td>1</td>\n",
       "      <td>0</td>\n",
       "    </tr>\n",
       "    <tr>\n",
       "      <th>1336</th>\n",
       "      <td>0</td>\n",
       "      <td>0</td>\n",
       "      <td>0</td>\n",
       "      <td>1</td>\n",
       "    </tr>\n",
       "    <tr>\n",
       "      <th>1337</th>\n",
       "      <td>0</td>\n",
       "      <td>1</td>\n",
       "      <td>0</td>\n",
       "      <td>0</td>\n",
       "    </tr>\n",
       "  </tbody>\n",
       "</table>\n",
       "<p>1332 rows × 4 columns</p>\n",
       "</div>"
      ],
      "text/plain": [
       "      northeast  northwest  southeast  southwest\n",
       "0             0          0          0          1\n",
       "1             0          0          1          0\n",
       "2             0          0          1          0\n",
       "3             0          1          0          0\n",
       "4             0          1          0          0\n",
       "...         ...        ...        ...        ...\n",
       "1333          0          1          0          0\n",
       "1334          1          0          0          0\n",
       "1335          0          0          1          0\n",
       "1336          0          0          0          1\n",
       "1337          0          1          0          0\n",
       "\n",
       "[1332 rows x 4 columns]"
      ]
     },
     "execution_count": 42,
     "metadata": {},
     "output_type": "execute_result"
    }
   ],
   "source": [
    "#One hot encoding\n",
    "y = pd.get_dummies(data1.smoker, prefix = 'smoker')\n",
    "z = pd.get_dummies(data1.sex)\n",
    "m = pd.get_dummies(data1.region)\n",
    "print(y)\n",
    "print(z)\n",
    "m"
   ]
  },
  {
   "cell_type": "code",
   "execution_count": 43,
   "id": "5a17a38a",
   "metadata": {},
   "outputs": [
    {
     "data": {
      "text/html": [
       "<div>\n",
       "<style scoped>\n",
       "    .dataframe tbody tr th:only-of-type {\n",
       "        vertical-align: middle;\n",
       "    }\n",
       "\n",
       "    .dataframe tbody tr th {\n",
       "        vertical-align: top;\n",
       "    }\n",
       "\n",
       "    .dataframe thead th {\n",
       "        text-align: right;\n",
       "    }\n",
       "</style>\n",
       "<table border=\"1\" class=\"dataframe\">\n",
       "  <thead>\n",
       "    <tr style=\"text-align: right;\">\n",
       "      <th></th>\n",
       "      <th>age</th>\n",
       "      <th>sex</th>\n",
       "      <th>bmi</th>\n",
       "      <th>children</th>\n",
       "      <th>region</th>\n",
       "      <th>charges</th>\n",
       "      <th>smoker_no</th>\n",
       "      <th>smoker_yes</th>\n",
       "    </tr>\n",
       "  </thead>\n",
       "  <tbody>\n",
       "    <tr>\n",
       "      <th>0</th>\n",
       "      <td>19</td>\n",
       "      <td>female</td>\n",
       "      <td>27.900</td>\n",
       "      <td>0</td>\n",
       "      <td>southwest</td>\n",
       "      <td>16884.92400</td>\n",
       "      <td>0</td>\n",
       "      <td>1</td>\n",
       "    </tr>\n",
       "    <tr>\n",
       "      <th>1</th>\n",
       "      <td>18</td>\n",
       "      <td>male</td>\n",
       "      <td>33.770</td>\n",
       "      <td>1</td>\n",
       "      <td>southeast</td>\n",
       "      <td>1725.55230</td>\n",
       "      <td>1</td>\n",
       "      <td>0</td>\n",
       "    </tr>\n",
       "    <tr>\n",
       "      <th>2</th>\n",
       "      <td>28</td>\n",
       "      <td>male</td>\n",
       "      <td>33.000</td>\n",
       "      <td>3</td>\n",
       "      <td>southeast</td>\n",
       "      <td>4449.46200</td>\n",
       "      <td>1</td>\n",
       "      <td>0</td>\n",
       "    </tr>\n",
       "    <tr>\n",
       "      <th>3</th>\n",
       "      <td>33</td>\n",
       "      <td>male</td>\n",
       "      <td>22.705</td>\n",
       "      <td>0</td>\n",
       "      <td>northwest</td>\n",
       "      <td>21984.47061</td>\n",
       "      <td>1</td>\n",
       "      <td>0</td>\n",
       "    </tr>\n",
       "    <tr>\n",
       "      <th>4</th>\n",
       "      <td>32</td>\n",
       "      <td>male</td>\n",
       "      <td>28.880</td>\n",
       "      <td>0</td>\n",
       "      <td>northwest</td>\n",
       "      <td>3866.85520</td>\n",
       "      <td>1</td>\n",
       "      <td>0</td>\n",
       "    </tr>\n",
       "  </tbody>\n",
       "</table>\n",
       "</div>"
      ],
      "text/plain": [
       "   age     sex     bmi  children     region      charges  smoker_no  \\\n",
       "0   19  female  27.900         0  southwest  16884.92400          0   \n",
       "1   18    male  33.770         1  southeast   1725.55230          1   \n",
       "2   28    male  33.000         3  southeast   4449.46200          1   \n",
       "3   33    male  22.705         0  northwest  21984.47061          1   \n",
       "4   32    male  28.880         0  northwest   3866.85520          1   \n",
       "\n",
       "   smoker_yes  \n",
       "0           1  \n",
       "1           0  \n",
       "2           0  \n",
       "3           0  \n",
       "4           0  "
      ]
     },
     "execution_count": 43,
     "metadata": {},
     "output_type": "execute_result"
    }
   ],
   "source": [
    "data1 = data1.drop('smoker',axis=1)\n",
    "data1 = data1.join(y)\n",
    "data1.head()"
   ]
  },
  {
   "cell_type": "code",
   "execution_count": 44,
   "id": "fdd712d6",
   "metadata": {},
   "outputs": [
    {
     "data": {
      "text/html": [
       "<div>\n",
       "<style scoped>\n",
       "    .dataframe tbody tr th:only-of-type {\n",
       "        vertical-align: middle;\n",
       "    }\n",
       "\n",
       "    .dataframe tbody tr th {\n",
       "        vertical-align: top;\n",
       "    }\n",
       "\n",
       "    .dataframe thead th {\n",
       "        text-align: right;\n",
       "    }\n",
       "</style>\n",
       "<table border=\"1\" class=\"dataframe\">\n",
       "  <thead>\n",
       "    <tr style=\"text-align: right;\">\n",
       "      <th></th>\n",
       "      <th>age</th>\n",
       "      <th>bmi</th>\n",
       "      <th>children</th>\n",
       "      <th>charges</th>\n",
       "      <th>smoker_no</th>\n",
       "      <th>smoker_yes</th>\n",
       "      <th>female</th>\n",
       "      <th>male</th>\n",
       "      <th>northeast</th>\n",
       "      <th>northwest</th>\n",
       "      <th>southeast</th>\n",
       "      <th>southwest</th>\n",
       "    </tr>\n",
       "  </thead>\n",
       "  <tbody>\n",
       "    <tr>\n",
       "      <th>0</th>\n",
       "      <td>19</td>\n",
       "      <td>27.900</td>\n",
       "      <td>0</td>\n",
       "      <td>16884.92400</td>\n",
       "      <td>0</td>\n",
       "      <td>1</td>\n",
       "      <td>1</td>\n",
       "      <td>0</td>\n",
       "      <td>0</td>\n",
       "      <td>0</td>\n",
       "      <td>0</td>\n",
       "      <td>1</td>\n",
       "    </tr>\n",
       "    <tr>\n",
       "      <th>1</th>\n",
       "      <td>18</td>\n",
       "      <td>33.770</td>\n",
       "      <td>1</td>\n",
       "      <td>1725.55230</td>\n",
       "      <td>1</td>\n",
       "      <td>0</td>\n",
       "      <td>0</td>\n",
       "      <td>1</td>\n",
       "      <td>0</td>\n",
       "      <td>0</td>\n",
       "      <td>1</td>\n",
       "      <td>0</td>\n",
       "    </tr>\n",
       "    <tr>\n",
       "      <th>2</th>\n",
       "      <td>28</td>\n",
       "      <td>33.000</td>\n",
       "      <td>3</td>\n",
       "      <td>4449.46200</td>\n",
       "      <td>1</td>\n",
       "      <td>0</td>\n",
       "      <td>0</td>\n",
       "      <td>1</td>\n",
       "      <td>0</td>\n",
       "      <td>0</td>\n",
       "      <td>1</td>\n",
       "      <td>0</td>\n",
       "    </tr>\n",
       "    <tr>\n",
       "      <th>3</th>\n",
       "      <td>33</td>\n",
       "      <td>22.705</td>\n",
       "      <td>0</td>\n",
       "      <td>21984.47061</td>\n",
       "      <td>1</td>\n",
       "      <td>0</td>\n",
       "      <td>0</td>\n",
       "      <td>1</td>\n",
       "      <td>0</td>\n",
       "      <td>1</td>\n",
       "      <td>0</td>\n",
       "      <td>0</td>\n",
       "    </tr>\n",
       "    <tr>\n",
       "      <th>4</th>\n",
       "      <td>32</td>\n",
       "      <td>28.880</td>\n",
       "      <td>0</td>\n",
       "      <td>3866.85520</td>\n",
       "      <td>1</td>\n",
       "      <td>0</td>\n",
       "      <td>0</td>\n",
       "      <td>1</td>\n",
       "      <td>0</td>\n",
       "      <td>1</td>\n",
       "      <td>0</td>\n",
       "      <td>0</td>\n",
       "    </tr>\n",
       "  </tbody>\n",
       "</table>\n",
       "</div>"
      ],
      "text/plain": [
       "   age     bmi  children      charges  smoker_no  smoker_yes  female  male  \\\n",
       "0   19  27.900         0  16884.92400          0           1       1     0   \n",
       "1   18  33.770         1   1725.55230          1           0       0     1   \n",
       "2   28  33.000         3   4449.46200          1           0       0     1   \n",
       "3   33  22.705         0  21984.47061          1           0       0     1   \n",
       "4   32  28.880         0   3866.85520          1           0       0     1   \n",
       "\n",
       "   northeast  northwest  southeast  southwest  \n",
       "0          0          0          0          1  \n",
       "1          0          0          1          0  \n",
       "2          0          0          1          0  \n",
       "3          0          1          0          0  \n",
       "4          0          1          0          0  "
      ]
     },
     "execution_count": 44,
     "metadata": {},
     "output_type": "execute_result"
    }
   ],
   "source": [
    "data1 = data1.drop(['region','sex'],axis=1)\n",
    "data1 = data1.join(z)\n",
    "data1 = data1.join(m)\n",
    "data1.head()"
   ]
  },
  {
   "cell_type": "code",
   "execution_count": 50,
   "id": "fc1a045c",
   "metadata": {},
   "outputs": [
    {
     "data": {
      "image/png": "[encoded data removed]",
      "text/plain": [
       "<Figure size 432x288 with 1 Axes>"
      ]
     },
     "metadata": {
      "needs_background": "light"
     },
     "output_type": "display_data"
    },
    {
     "name": "stdout",
     "output_type": "stream",
     "text": [
      "Mean square error for learning rate 0.1 and regularizing parameter 0.7 :  32185345763.48236\n",
      "Intercept:  13178.520599772173\n",
      "Coefficients:  [3341.301914232348, 1923.034134432917, 912.3795303407883]\n"
     ]
    }
   ],
   "source": [
    "xxx = linear_regression_with_regularization(0.1,data1[['age','bmi','children']],data1['charges'],0.7)"
   ]
  },
  {
   "cell_type": "code",
   "execution_count": null,
   "id": "3c28f37c",
   "metadata": {},
   "outputs": [],
   "source": []
  }
 ],
 "metadata": {
  "kernelspec": {
   "display_name": "Python 3 (ipykernel)",
   "language": "python",
   "name": "python3"
  },
  "language_info": {
   "codemirror_mode": {
    "name": "ipython",
    "version": 3
   },
   "file_extension": ".py",
   "mimetype": "text/x-python",
   "name": "python",
   "nbconvert_exporter": "python",
   "pygments_lexer": "ipython3",
   "version": "3.9.7"
  }
 },
 "nbformat": 4,
 "nbformat_minor": 5
}

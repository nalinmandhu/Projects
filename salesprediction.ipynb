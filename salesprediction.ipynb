{
 "cells": [
  {
   "cell_type": "code",
   "execution_count": 1,
   "id": "2eb9c44c",
   "metadata": {
    "_cell_guid": "b1076dfc-b9ad-4769-8c92-a6c4dae69d19",
    "_uuid": "8f2839f25d086af736a60e9eeb907d3b93b6e0e5",
    "execution": {
     "iopub.execute_input": "2022-08-16T05:39:34.083477Z",
     "iopub.status.busy": "2022-08-16T05:39:34.082981Z",
     "iopub.status.idle": "2022-08-16T05:39:34.099357Z",
     "shell.execute_reply": "2022-08-16T05:39:34.098392Z"
    },
    "papermill": {
     "duration": 0.031118,
     "end_time": "2022-08-16T05:39:34.102217",
     "exception": false,
     "start_time": "2022-08-16T05:39:34.071099",
     "status": "completed"
    },
    "tags": []
   },
   "outputs": [
    {
     "name": "stdout",
     "output_type": "stream",
     "text": [
      "/kaggle/input/store-sales-time-series-forecasting/oil.csv\n",
      "/kaggle/input/store-sales-time-series-forecasting/sample_submission.csv\n",
      "/kaggle/input/store-sales-time-series-forecasting/holidays_events.csv\n",
      "/kaggle/input/store-sales-time-series-forecasting/stores.csv\n",
      "/kaggle/input/store-sales-time-series-forecasting/train.csv\n",
      "/kaggle/input/store-sales-time-series-forecasting/test.csv\n",
      "/kaggle/input/store-sales-time-series-forecasting/transactions.csv\n"
     ]
    }
   ],
   "source": [
    "# This Python 3 environment comes with many helpful analytics libraries installed\n",
    "# It is defined by the kaggle/python Docker image: https://github.com/kaggle/docker-python\n",
    "# For example, here's several helpful packages to load\n",
    "\n",
    "import numpy as np # linear algebra\n",
    "import pandas as pd # data processing, CSV file I/O (e.g. pd.read_csv)\n",
    "\n",
    "# Input data files are available in the read-only \"../input/\" directory\n",
    "# For example, running this (by clicking run or pressing Shift+Enter) will list all files under the input directory\n",
    "\n",
    "import os\n",
    "for dirname, _, filenames in os.walk('/kaggle/input'):\n",
    "    for filename in filenames:\n",
    "        print(os.path.join(dirname, filename))\n",
    "\n",
    "# You can write up to 20GB to the current directory (/kaggle/working/) that gets preserved as output when you create a version using \"Save & Run All\" \n",
    "# You can also write temporary files to /kaggle/temp/, but they won't be saved outside of the current session"
   ]
  },
  {
   "cell_type": "code",
   "execution_count": 2,
   "id": "bfd3e115",
   "metadata": {
    "execution": {
     "iopub.execute_input": "2022-08-16T05:39:34.120770Z",
     "iopub.status.busy": "2022-08-16T05:39:34.120028Z",
     "iopub.status.idle": "2022-08-16T05:39:37.687277Z",
     "shell.execute_reply": "2022-08-16T05:39:37.686065Z"
    },
    "papermill": {
     "duration": 3.579471,
     "end_time": "2022-08-16T05:39:37.689963",
     "exception": false,
     "start_time": "2022-08-16T05:39:34.110492",
     "status": "completed"
    },
    "tags": []
   },
   "outputs": [],
   "source": [
    "\n",
    "oil = pd.read_csv('/kaggle/input/store-sales-time-series-forecasting/oil.csv')\n",
    "sample = pd.read_csv('/kaggle/input/store-sales-time-series-forecasting/sample_submission.csv')\n",
    "holidays = pd.read_csv('/kaggle/input/store-sales-time-series-forecasting/holidays_events.csv')\n",
    "stores = pd.read_csv('/kaggle/input/store-sales-time-series-forecasting/stores.csv')\n",
    "train = pd.read_csv('/kaggle/input/store-sales-time-series-forecasting/train.csv')\n",
    "transactions = pd.read_csv('/kaggle/input/store-sales-time-series-forecasting/transactions.csv')\n",
    "test = pd.read_csv('/kaggle/input/store-sales-time-series-forecasting/test.csv')\n"
   ]
  },
  {
   "cell_type": "code",
   "execution_count": 3,
   "id": "b9a6ab10",
   "metadata": {
    "execution": {
     "iopub.execute_input": "2022-08-16T05:39:37.710090Z",
     "iopub.status.busy": "2022-08-16T05:39:37.709347Z",
     "iopub.status.idle": "2022-08-16T05:39:37.751896Z",
     "shell.execute_reply": "2022-08-16T05:39:37.750296Z"
    },
    "papermill": {
     "duration": 0.055737,
     "end_time": "2022-08-16T05:39:37.754801",
     "exception": false,
     "start_time": "2022-08-16T05:39:37.699064",
     "status": "completed"
    },
    "tags": []
   },
   "outputs": [
    {
     "name": "stdout",
     "output_type": "stream",
     "text": [
      "Oil Prices\n",
      "             date  dcoilwtico\n",
      "0     2013-01-01         NaN\n",
      "1     2013-01-02       93.14\n",
      "2     2013-01-03       92.97\n",
      "3     2013-01-04       93.12\n",
      "4     2013-01-07       93.20\n",
      "...          ...         ...\n",
      "1213  2017-08-25       47.65\n",
      "1214  2017-08-28       46.40\n",
      "1215  2017-08-29       46.46\n",
      "1216  2017-08-30       45.96\n",
      "1217  2017-08-31       47.26\n",
      "\n",
      "[1218 rows x 2 columns]\n",
      "Sample\n",
      "         id  sales\n",
      "0  3000888    0.0\n",
      "1  3000889    0.0\n",
      "2  3000890    0.0\n",
      "3  3000891    0.0\n",
      "4  3000892    0.0\n",
      "Holiday\n",
      "          date     type    locale locale_name                    description  \\\n",
      "0  2012-03-02  Holiday     Local       Manta             Fundacion de Manta   \n",
      "1  2012-04-01  Holiday  Regional    Cotopaxi  Provincializacion de Cotopaxi   \n",
      "2  2012-04-12  Holiday     Local      Cuenca            Fundacion de Cuenca   \n",
      "3  2012-04-14  Holiday     Local    Libertad      Cantonizacion de Libertad   \n",
      "4  2012-04-21  Holiday     Local    Riobamba      Cantonizacion de Riobamba   \n",
      "\n",
      "   transferred  \n",
      "0        False  \n",
      "1        False  \n",
      "2        False  \n",
      "3        False  \n",
      "4        False  \n",
      "Stores\n",
      "    store_nbr           city                           state type  cluster\n",
      "0          1          Quito                       Pichincha    D       13\n",
      "1          2          Quito                       Pichincha    D       13\n",
      "2          3          Quito                       Pichincha    D        8\n",
      "3          4          Quito                       Pichincha    D        9\n",
      "4          5  Santo Domingo  Santo Domingo de los Tsachilas    D        4\n",
      "transactions\n",
      "          date  store_nbr  transactions\n",
      "0  2013-01-01         25           770\n",
      "1  2013-01-02          1          2111\n",
      "2  2013-01-02          2          2358\n",
      "3  2013-01-02          3          3487\n",
      "4  2013-01-02          4          1922\n"
     ]
    },
    {
     "data": {
      "text/html": [
       "<div>\n",
       "<style scoped>\n",
       "    .dataframe tbody tr th:only-of-type {\n",
       "        vertical-align: middle;\n",
       "    }\n",
       "\n",
       "    .dataframe tbody tr th {\n",
       "        vertical-align: top;\n",
       "    }\n",
       "\n",
       "    .dataframe thead th {\n",
       "        text-align: right;\n",
       "    }\n",
       "</style>\n",
       "<table border=\"1\" class=\"dataframe\">\n",
       "  <thead>\n",
       "    <tr style=\"text-align: right;\">\n",
       "      <th></th>\n",
       "      <th>id</th>\n",
       "      <th>date</th>\n",
       "      <th>store_nbr</th>\n",
       "      <th>family</th>\n",
       "      <th>sales</th>\n",
       "      <th>onpromotion</th>\n",
       "    </tr>\n",
       "  </thead>\n",
       "  <tbody>\n",
       "    <tr>\n",
       "      <th>0</th>\n",
       "      <td>0</td>\n",
       "      <td>2013-01-01</td>\n",
       "      <td>1</td>\n",
       "      <td>AUTOMOTIVE</td>\n",
       "      <td>0.0</td>\n",
       "      <td>0</td>\n",
       "    </tr>\n",
       "    <tr>\n",
       "      <th>1</th>\n",
       "      <td>1</td>\n",
       "      <td>2013-01-01</td>\n",
       "      <td>1</td>\n",
       "      <td>BABY CARE</td>\n",
       "      <td>0.0</td>\n",
       "      <td>0</td>\n",
       "    </tr>\n",
       "    <tr>\n",
       "      <th>2</th>\n",
       "      <td>2</td>\n",
       "      <td>2013-01-01</td>\n",
       "      <td>1</td>\n",
       "      <td>BEAUTY</td>\n",
       "      <td>0.0</td>\n",
       "      <td>0</td>\n",
       "    </tr>\n",
       "    <tr>\n",
       "      <th>3</th>\n",
       "      <td>3</td>\n",
       "      <td>2013-01-01</td>\n",
       "      <td>1</td>\n",
       "      <td>BEVERAGES</td>\n",
       "      <td>0.0</td>\n",
       "      <td>0</td>\n",
       "    </tr>\n",
       "    <tr>\n",
       "      <th>4</th>\n",
       "      <td>4</td>\n",
       "      <td>2013-01-01</td>\n",
       "      <td>1</td>\n",
       "      <td>BOOKS</td>\n",
       "      <td>0.0</td>\n",
       "      <td>0</td>\n",
       "    </tr>\n",
       "  </tbody>\n",
       "</table>\n",
       "</div>"
      ],
      "text/plain": [
       "   id        date  store_nbr      family  sales  onpromotion\n",
       "0   0  2013-01-01          1  AUTOMOTIVE    0.0            0\n",
       "1   1  2013-01-01          1   BABY CARE    0.0            0\n",
       "2   2  2013-01-01          1      BEAUTY    0.0            0\n",
       "3   3  2013-01-01          1   BEVERAGES    0.0            0\n",
       "4   4  2013-01-01          1       BOOKS    0.0            0"
      ]
     },
     "execution_count": 3,
     "metadata": {},
     "output_type": "execute_result"
    }
   ],
   "source": [
    "print('Oil Prices\\n',oil)\n",
    "print('Sample\\n',sample.head())\n",
    "print('Holiday\\n',holidays.head())\n",
    "print('Stores\\n',stores.head())\n",
    "print('transactions\\n',transactions.head())\n",
    "train.head()"
   ]
  },
  {
   "cell_type": "code",
   "execution_count": 4,
   "id": "2451b2de",
   "metadata": {
    "execution": {
     "iopub.execute_input": "2022-08-16T05:39:37.774503Z",
     "iopub.status.busy": "2022-08-16T05:39:37.773252Z",
     "iopub.status.idle": "2022-08-16T05:39:37.947665Z",
     "shell.execute_reply": "2022-08-16T05:39:37.946633Z"
    },
    "papermill": {
     "duration": 0.186818,
     "end_time": "2022-08-16T05:39:37.950307",
     "exception": false,
     "start_time": "2022-08-16T05:39:37.763489",
     "status": "completed"
    },
    "tags": []
   },
   "outputs": [
    {
     "data": {
      "image/png": "[encoded data removed]",
      "text/plain": [
       "<Figure size 432x288 with 1 Axes>"
      ]
     },
     "metadata": {
      "needs_background": "light"
     },
     "output_type": "display_data"
    }
   ],
   "source": [
    "import matplotlib.pyplot as plt\n",
    "price = oil['dcoilwtico'].dropna()\n",
    "plt.boxplot(price)\n",
    "plt.show()"
   ]
  },
  {
   "cell_type": "code",
   "execution_count": 5,
   "id": "70381280",
   "metadata": {
    "execution": {
     "iopub.execute_input": "2022-08-16T05:39:37.970098Z",
     "iopub.status.busy": "2022-08-16T05:39:37.969432Z",
     "iopub.status.idle": "2022-08-16T05:39:42.370455Z",
     "shell.execute_reply": "2022-08-16T05:39:42.369492Z"
    },
    "papermill": {
     "duration": 4.413341,
     "end_time": "2022-08-16T05:39:42.372854",
     "exception": false,
     "start_time": "2022-08-16T05:39:37.959513",
     "status": "completed"
    },
    "tags": []
   },
   "outputs": [
    {
     "data": {
      "text/html": [
       "<div>\n",
       "<style scoped>\n",
       "    .dataframe tbody tr th:only-of-type {\n",
       "        vertical-align: middle;\n",
       "    }\n",
       "\n",
       "    .dataframe tbody tr th {\n",
       "        vertical-align: top;\n",
       "    }\n",
       "\n",
       "    .dataframe thead th {\n",
       "        text-align: right;\n",
       "    }\n",
       "</style>\n",
       "<table border=\"1\" class=\"dataframe\">\n",
       "  <thead>\n",
       "    <tr style=\"text-align: right;\">\n",
       "      <th></th>\n",
       "      <th>id</th>\n",
       "      <th>date</th>\n",
       "      <th>store_nbr</th>\n",
       "      <th>family</th>\n",
       "      <th>sales</th>\n",
       "      <th>onpromotion</th>\n",
       "      <th>dcoilwtico</th>\n",
       "      <th>holiday_type</th>\n",
       "      <th>locale</th>\n",
       "      <th>locale_name</th>\n",
       "      <th>description</th>\n",
       "      <th>transferred</th>\n",
       "      <th>transactions</th>\n",
       "      <th>city</th>\n",
       "      <th>state</th>\n",
       "      <th>store_type</th>\n",
       "      <th>cluster</th>\n",
       "    </tr>\n",
       "  </thead>\n",
       "  <tbody>\n",
       "    <tr>\n",
       "      <th>0</th>\n",
       "      <td>0</td>\n",
       "      <td>2013-01-01</td>\n",
       "      <td>1</td>\n",
       "      <td>AUTOMOTIVE</td>\n",
       "      <td>0.0</td>\n",
       "      <td>0</td>\n",
       "      <td>NaN</td>\n",
       "      <td>Holiday</td>\n",
       "      <td>National</td>\n",
       "      <td>Ecuador</td>\n",
       "      <td>Primer dia del ano</td>\n",
       "      <td>False</td>\n",
       "      <td>NaN</td>\n",
       "      <td>Quito</td>\n",
       "      <td>Pichincha</td>\n",
       "      <td>D</td>\n",
       "      <td>13</td>\n",
       "    </tr>\n",
       "    <tr>\n",
       "      <th>1</th>\n",
       "      <td>1</td>\n",
       "      <td>2013-01-01</td>\n",
       "      <td>1</td>\n",
       "      <td>BABY CARE</td>\n",
       "      <td>0.0</td>\n",
       "      <td>0</td>\n",
       "      <td>NaN</td>\n",
       "      <td>Holiday</td>\n",
       "      <td>National</td>\n",
       "      <td>Ecuador</td>\n",
       "      <td>Primer dia del ano</td>\n",
       "      <td>False</td>\n",
       "      <td>NaN</td>\n",
       "      <td>Quito</td>\n",
       "      <td>Pichincha</td>\n",
       "      <td>D</td>\n",
       "      <td>13</td>\n",
       "    </tr>\n",
       "    <tr>\n",
       "      <th>2</th>\n",
       "      <td>2</td>\n",
       "      <td>2013-01-01</td>\n",
       "      <td>1</td>\n",
       "      <td>BEAUTY</td>\n",
       "      <td>0.0</td>\n",
       "      <td>0</td>\n",
       "      <td>NaN</td>\n",
       "      <td>Holiday</td>\n",
       "      <td>National</td>\n",
       "      <td>Ecuador</td>\n",
       "      <td>Primer dia del ano</td>\n",
       "      <td>False</td>\n",
       "      <td>NaN</td>\n",
       "      <td>Quito</td>\n",
       "      <td>Pichincha</td>\n",
       "      <td>D</td>\n",
       "      <td>13</td>\n",
       "    </tr>\n",
       "    <tr>\n",
       "      <th>3</th>\n",
       "      <td>3</td>\n",
       "      <td>2013-01-01</td>\n",
       "      <td>1</td>\n",
       "      <td>BEVERAGES</td>\n",
       "      <td>0.0</td>\n",
       "      <td>0</td>\n",
       "      <td>NaN</td>\n",
       "      <td>Holiday</td>\n",
       "      <td>National</td>\n",
       "      <td>Ecuador</td>\n",
       "      <td>Primer dia del ano</td>\n",
       "      <td>False</td>\n",
       "      <td>NaN</td>\n",
       "      <td>Quito</td>\n",
       "      <td>Pichincha</td>\n",
       "      <td>D</td>\n",
       "      <td>13</td>\n",
       "    </tr>\n",
       "    <tr>\n",
       "      <th>4</th>\n",
       "      <td>4</td>\n",
       "      <td>2013-01-01</td>\n",
       "      <td>1</td>\n",
       "      <td>BOOKS</td>\n",
       "      <td>0.0</td>\n",
       "      <td>0</td>\n",
       "      <td>NaN</td>\n",
       "      <td>Holiday</td>\n",
       "      <td>National</td>\n",
       "      <td>Ecuador</td>\n",
       "      <td>Primer dia del ano</td>\n",
       "      <td>False</td>\n",
       "      <td>NaN</td>\n",
       "      <td>Quito</td>\n",
       "      <td>Pichincha</td>\n",
       "      <td>D</td>\n",
       "      <td>13</td>\n",
       "    </tr>\n",
       "  </tbody>\n",
       "</table>\n",
       "</div>"
      ],
      "text/plain": [
       "   id        date  store_nbr      family  sales  onpromotion  dcoilwtico  \\\n",
       "0   0  2013-01-01          1  AUTOMOTIVE    0.0            0         NaN   \n",
       "1   1  2013-01-01          1   BABY CARE    0.0            0         NaN   \n",
       "2   2  2013-01-01          1      BEAUTY    0.0            0         NaN   \n",
       "3   3  2013-01-01          1   BEVERAGES    0.0            0         NaN   \n",
       "4   4  2013-01-01          1       BOOKS    0.0            0         NaN   \n",
       "\n",
       "  holiday_type    locale locale_name         description transferred  \\\n",
       "0      Holiday  National     Ecuador  Primer dia del ano       False   \n",
       "1      Holiday  National     Ecuador  Primer dia del ano       False   \n",
       "2      Holiday  National     Ecuador  Primer dia del ano       False   \n",
       "3      Holiday  National     Ecuador  Primer dia del ano       False   \n",
       "4      Holiday  National     Ecuador  Primer dia del ano       False   \n",
       "\n",
       "   transactions   city      state store_type  cluster  \n",
       "0           NaN  Quito  Pichincha          D       13  \n",
       "1           NaN  Quito  Pichincha          D       13  \n",
       "2           NaN  Quito  Pichincha          D       13  \n",
       "3           NaN  Quito  Pichincha          D       13  \n",
       "4           NaN  Quito  Pichincha          D       13  "
      ]
     },
     "execution_count": 5,
     "metadata": {},
     "output_type": "execute_result"
    }
   ],
   "source": [
    "training1 = pd.merge(train, oil, how = 'left', on='date')\n",
    "training1 = pd.merge(training1, holidays, how = 'left',on = 'date')\n",
    "training1 = pd.merge(training1, transactions, how ='left', on =['date','store_nbr'])\n",
    "training1 = pd.merge(training1, stores, how = 'left', on = 'store_nbr')\n",
    "training1.rename(columns={'type_x':'holiday_type', 'type_y':'store_type'}, inplace = True)\n",
    "training1.head()"
   ]
  },
  {
   "cell_type": "code",
   "execution_count": 6,
   "id": "88978dd1",
   "metadata": {
    "execution": {
     "iopub.execute_input": "2022-08-16T05:39:42.393657Z",
     "iopub.status.busy": "2022-08-16T05:39:42.392610Z",
     "iopub.status.idle": "2022-08-16T05:39:42.413663Z",
     "shell.execute_reply": "2022-08-16T05:39:42.412125Z"
    },
    "papermill": {
     "duration": 0.034577,
     "end_time": "2022-08-16T05:39:42.416380",
     "exception": false,
     "start_time": "2022-08-16T05:39:42.381803",
     "status": "completed"
    },
    "tags": []
   },
   "outputs": [
    {
     "name": "stdout",
     "output_type": "stream",
     "text": [
      "{'Holiday': 1, 'Transfer': 2, 'Additional': 3, 'Bridge': 4, 'Work Day': 5, 'Event': 6}\n"
     ]
    },
    {
     "data": {
      "text/html": [
       "<div>\n",
       "<style scoped>\n",
       "    .dataframe tbody tr th:only-of-type {\n",
       "        vertical-align: middle;\n",
       "    }\n",
       "\n",
       "    .dataframe tbody tr th {\n",
       "        vertical-align: top;\n",
       "    }\n",
       "\n",
       "    .dataframe thead th {\n",
       "        text-align: right;\n",
       "    }\n",
       "</style>\n",
       "<table border=\"1\" class=\"dataframe\">\n",
       "  <thead>\n",
       "    <tr style=\"text-align: right;\">\n",
       "      <th></th>\n",
       "      <th>date</th>\n",
       "      <th>type</th>\n",
       "      <th>locale</th>\n",
       "      <th>locale_name</th>\n",
       "      <th>description</th>\n",
       "      <th>transferred</th>\n",
       "    </tr>\n",
       "  </thead>\n",
       "  <tbody>\n",
       "    <tr>\n",
       "      <th>0</th>\n",
       "      <td>2012-03-02</td>\n",
       "      <td>1</td>\n",
       "      <td>Local</td>\n",
       "      <td>Manta</td>\n",
       "      <td>Fundacion de Manta</td>\n",
       "      <td>False</td>\n",
       "    </tr>\n",
       "    <tr>\n",
       "      <th>1</th>\n",
       "      <td>2012-04-01</td>\n",
       "      <td>1</td>\n",
       "      <td>Regional</td>\n",
       "      <td>Cotopaxi</td>\n",
       "      <td>Provincializacion de Cotopaxi</td>\n",
       "      <td>False</td>\n",
       "    </tr>\n",
       "    <tr>\n",
       "      <th>2</th>\n",
       "      <td>2012-04-12</td>\n",
       "      <td>1</td>\n",
       "      <td>Local</td>\n",
       "      <td>Cuenca</td>\n",
       "      <td>Fundacion de Cuenca</td>\n",
       "      <td>False</td>\n",
       "    </tr>\n",
       "    <tr>\n",
       "      <th>3</th>\n",
       "      <td>2012-04-14</td>\n",
       "      <td>1</td>\n",
       "      <td>Local</td>\n",
       "      <td>Libertad</td>\n",
       "      <td>Cantonizacion de Libertad</td>\n",
       "      <td>False</td>\n",
       "    </tr>\n",
       "    <tr>\n",
       "      <th>4</th>\n",
       "      <td>2012-04-21</td>\n",
       "      <td>1</td>\n",
       "      <td>Local</td>\n",
       "      <td>Riobamba</td>\n",
       "      <td>Cantonizacion de Riobamba</td>\n",
       "      <td>False</td>\n",
       "    </tr>\n",
       "  </tbody>\n",
       "</table>\n",
       "</div>"
      ],
      "text/plain": [
       "         date  type    locale locale_name                    description  \\\n",
       "0  2012-03-02     1     Local       Manta             Fundacion de Manta   \n",
       "1  2012-04-01     1  Regional    Cotopaxi  Provincializacion de Cotopaxi   \n",
       "2  2012-04-12     1     Local      Cuenca            Fundacion de Cuenca   \n",
       "3  2012-04-14     1     Local    Libertad      Cantonizacion de Libertad   \n",
       "4  2012-04-21     1     Local    Riobamba      Cantonizacion de Riobamba   \n",
       "\n",
       "   transferred  \n",
       "0        False  \n",
       "1        False  \n",
       "2        False  \n",
       "3        False  \n",
       "4        False  "
      ]
     },
     "execution_count": 6,
     "metadata": {},
     "output_type": "execute_result"
    }
   ],
   "source": [
    "def str_to_num(data):\n",
    "    data1 = data.dropna().unique()\n",
    "    lis = range(1,len(data1)+1)\n",
    "    zipper = dict(zip(data1,lis))\n",
    "    print(zipper)\n",
    "    liss = []\n",
    "    for ele in data:\n",
    "        x = zipper[ele]\n",
    "        liss.append(x)\n",
    "    return liss\n",
    "holidays['type'] = str_to_num(holidays['type'])\n",
    "holidays.head()"
   ]
  },
  {
   "cell_type": "code",
   "execution_count": 7,
   "id": "3c5f314d",
   "metadata": {
    "execution": {
     "iopub.execute_input": "2022-08-16T05:39:42.436840Z",
     "iopub.status.busy": "2022-08-16T05:39:42.436399Z",
     "iopub.status.idle": "2022-08-16T05:39:44.286396Z",
     "shell.execute_reply": "2022-08-16T05:39:44.285000Z"
    },
    "papermill": {
     "duration": 1.863832,
     "end_time": "2022-08-16T05:39:44.289330",
     "exception": false,
     "start_time": "2022-08-16T05:39:42.425498",
     "status": "completed"
    },
    "tags": []
   },
   "outputs": [
    {
     "name": "stdout",
     "output_type": "stream",
     "text": [
      "{'D': 1, 'B': 2, 'C': 3, 'E': 4, 'A': 5}\n",
      "{'AUTOMOTIVE': 1, 'BABY CARE': 2, 'BEAUTY': 3, 'BEVERAGES': 4, 'BOOKS': 5, 'BREAD/BAKERY': 6, 'CELEBRATION': 7, 'CLEANING': 8, 'DAIRY': 9, 'DELI': 10, 'EGGS': 11, 'FROZEN FOODS': 12, 'GROCERY I': 13, 'GROCERY II': 14, 'HARDWARE': 15, 'HOME AND KITCHEN I': 16, 'HOME AND KITCHEN II': 17, 'HOME APPLIANCES': 18, 'HOME CARE': 19, 'LADIESWEAR': 20, 'LAWN AND GARDEN': 21, 'LINGERIE': 22, 'LIQUOR,WINE,BEER': 23, 'MAGAZINES': 24, 'MEATS': 25, 'PERSONAL CARE': 26, 'PET SUPPLIES': 27, 'PLAYERS AND ELECTRONICS': 28, 'POULTRY': 29, 'PREPARED FOODS': 30, 'PRODUCE': 31, 'SCHOOL AND OFFICE SUPPLIES': 32, 'SEAFOOD': 33}\n",
      "{'Quito': 1, 'Santo Domingo': 2, 'Cayambe': 3, 'Latacunga': 4, 'Riobamba': 5, 'Ibarra': 6, 'Guaranda': 7, 'Puyo': 8, 'Ambato': 9, 'Guayaquil': 10, 'Salinas': 11, 'Daule': 12, 'Babahoyo': 13, 'Quevedo': 14, 'Playas': 15, 'Libertad': 16, 'Cuenca': 17, 'Loja': 18, 'Machala': 19, 'Esmeraldas': 20, 'Manta': 21, 'El Carmen': 22}\n",
      "{'Local': 1, 'Regional': 2, 'National': 3}\n",
      "{'Manta': 1, 'Cotopaxi': 2, 'Cuenca': 3, 'Libertad': 4, 'Riobamba': 5, 'Puyo': 6, 'Guaranda': 7, 'Imbabura': 8, 'Latacunga': 9, 'Machala': 10, 'Santo Domingo': 11, 'El Carmen': 12, 'Cayambe': 13, 'Esmeraldas': 14, 'Ecuador': 15, 'Ambato': 16, 'Ibarra': 17, 'Quevedo': 18, 'Santo Domingo de los Tsachilas': 19, 'Santa Elena': 20, 'Quito': 21, 'Loja': 22, 'Salinas': 23, 'Guayaquil': 24}\n",
      "{False: 1, True: 2}\n"
     ]
    }
   ],
   "source": [
    "stores['type'] = str_to_num(stores['type'])\n",
    "train['family'] = str_to_num(train['family'])\n",
    "stores['city'] = str_to_num(stores['city'])\n",
    "holidays['locale'] = str_to_num(holidays['locale'])\n",
    "holidays['locale_name'] = str_to_num(holidays['locale_name'])\n",
    "holidays['transferred'] = str_to_num(holidays['transferred'])"
   ]
  },
  {
   "cell_type": "code",
   "execution_count": 8,
   "id": "dd75757f",
   "metadata": {
    "execution": {
     "iopub.execute_input": "2022-08-16T05:39:44.310686Z",
     "iopub.status.busy": "2022-08-16T05:39:44.310268Z",
     "iopub.status.idle": "2022-08-16T05:39:49.633863Z",
     "shell.execute_reply": "2022-08-16T05:39:49.632052Z"
    },
    "papermill": {
     "duration": 5.337593,
     "end_time": "2022-08-16T05:39:49.636944",
     "exception": false,
     "start_time": "2022-08-16T05:39:44.299351",
     "status": "completed"
    },
    "tags": []
   },
   "outputs": [
    {
     "data": {
      "text/html": [
       "<div>\n",
       "<style scoped>\n",
       "    .dataframe tbody tr th:only-of-type {\n",
       "        vertical-align: middle;\n",
       "    }\n",
       "\n",
       "    .dataframe tbody tr th {\n",
       "        vertical-align: top;\n",
       "    }\n",
       "\n",
       "    .dataframe thead th {\n",
       "        text-align: right;\n",
       "    }\n",
       "</style>\n",
       "<table border=\"1\" class=\"dataframe\">\n",
       "  <thead>\n",
       "    <tr style=\"text-align: right;\">\n",
       "      <th></th>\n",
       "      <th>id</th>\n",
       "      <th>date</th>\n",
       "      <th>store_nbr</th>\n",
       "      <th>family</th>\n",
       "      <th>sales</th>\n",
       "      <th>onpromotion</th>\n",
       "      <th>dcoilwtico</th>\n",
       "      <th>holiday_type</th>\n",
       "      <th>locale</th>\n",
       "      <th>locale_name</th>\n",
       "      <th>description</th>\n",
       "      <th>transferred</th>\n",
       "      <th>transactions</th>\n",
       "      <th>city</th>\n",
       "      <th>state</th>\n",
       "      <th>store_type</th>\n",
       "      <th>cluster</th>\n",
       "    </tr>\n",
       "  </thead>\n",
       "  <tbody>\n",
       "    <tr>\n",
       "      <th>0</th>\n",
       "      <td>0</td>\n",
       "      <td>2013-01-01</td>\n",
       "      <td>1</td>\n",
       "      <td>1</td>\n",
       "      <td>0.0</td>\n",
       "      <td>0</td>\n",
       "      <td>93.987927</td>\n",
       "      <td>1.0</td>\n",
       "      <td>3.0</td>\n",
       "      <td>15.0</td>\n",
       "      <td>Primer dia del ano</td>\n",
       "      <td>1.0</td>\n",
       "      <td>NaN</td>\n",
       "      <td>1</td>\n",
       "      <td>Pichincha</td>\n",
       "      <td>1</td>\n",
       "      <td>13</td>\n",
       "    </tr>\n",
       "    <tr>\n",
       "      <th>1</th>\n",
       "      <td>1</td>\n",
       "      <td>2013-01-01</td>\n",
       "      <td>1</td>\n",
       "      <td>2</td>\n",
       "      <td>0.0</td>\n",
       "      <td>0</td>\n",
       "      <td>93.987927</td>\n",
       "      <td>1.0</td>\n",
       "      <td>3.0</td>\n",
       "      <td>15.0</td>\n",
       "      <td>Primer dia del ano</td>\n",
       "      <td>1.0</td>\n",
       "      <td>NaN</td>\n",
       "      <td>1</td>\n",
       "      <td>Pichincha</td>\n",
       "      <td>1</td>\n",
       "      <td>13</td>\n",
       "    </tr>\n",
       "    <tr>\n",
       "      <th>2</th>\n",
       "      <td>2</td>\n",
       "      <td>2013-01-01</td>\n",
       "      <td>1</td>\n",
       "      <td>3</td>\n",
       "      <td>0.0</td>\n",
       "      <td>0</td>\n",
       "      <td>93.987927</td>\n",
       "      <td>1.0</td>\n",
       "      <td>3.0</td>\n",
       "      <td>15.0</td>\n",
       "      <td>Primer dia del ano</td>\n",
       "      <td>1.0</td>\n",
       "      <td>NaN</td>\n",
       "      <td>1</td>\n",
       "      <td>Pichincha</td>\n",
       "      <td>1</td>\n",
       "      <td>13</td>\n",
       "    </tr>\n",
       "    <tr>\n",
       "      <th>3</th>\n",
       "      <td>3</td>\n",
       "      <td>2013-01-01</td>\n",
       "      <td>1</td>\n",
       "      <td>4</td>\n",
       "      <td>0.0</td>\n",
       "      <td>0</td>\n",
       "      <td>93.987927</td>\n",
       "      <td>1.0</td>\n",
       "      <td>3.0</td>\n",
       "      <td>15.0</td>\n",
       "      <td>Primer dia del ano</td>\n",
       "      <td>1.0</td>\n",
       "      <td>NaN</td>\n",
       "      <td>1</td>\n",
       "      <td>Pichincha</td>\n",
       "      <td>1</td>\n",
       "      <td>13</td>\n",
       "    </tr>\n",
       "    <tr>\n",
       "      <th>4</th>\n",
       "      <td>4</td>\n",
       "      <td>2013-01-01</td>\n",
       "      <td>1</td>\n",
       "      <td>5</td>\n",
       "      <td>0.0</td>\n",
       "      <td>0</td>\n",
       "      <td>93.987927</td>\n",
       "      <td>1.0</td>\n",
       "      <td>3.0</td>\n",
       "      <td>15.0</td>\n",
       "      <td>Primer dia del ano</td>\n",
       "      <td>1.0</td>\n",
       "      <td>NaN</td>\n",
       "      <td>1</td>\n",
       "      <td>Pichincha</td>\n",
       "      <td>1</td>\n",
       "      <td>13</td>\n",
       "    </tr>\n",
       "  </tbody>\n",
       "</table>\n",
       "</div>"
      ],
      "text/plain": [
       "   id        date  store_nbr  family  sales  onpromotion  dcoilwtico  \\\n",
       "0   0  2013-01-01          1       1    0.0            0   93.987927   \n",
       "1   1  2013-01-01          1       2    0.0            0   93.987927   \n",
       "2   2  2013-01-01          1       3    0.0            0   93.987927   \n",
       "3   3  2013-01-01          1       4    0.0            0   93.987927   \n",
       "4   4  2013-01-01          1       5    0.0            0   93.987927   \n",
       "\n",
       "   holiday_type  locale  locale_name         description  transferred  \\\n",
       "0           1.0     3.0         15.0  Primer dia del ano          1.0   \n",
       "1           1.0     3.0         15.0  Primer dia del ano          1.0   \n",
       "2           1.0     3.0         15.0  Primer dia del ano          1.0   \n",
       "3           1.0     3.0         15.0  Primer dia del ano          1.0   \n",
       "4           1.0     3.0         15.0  Primer dia del ano          1.0   \n",
       "\n",
       "   transactions  city      state  store_type  cluster  \n",
       "0           NaN     1  Pichincha           1       13  \n",
       "1           NaN     1  Pichincha           1       13  \n",
       "2           NaN     1  Pichincha           1       13  \n",
       "3           NaN     1  Pichincha           1       13  \n",
       "4           NaN     1  Pichincha           1       13  "
      ]
     },
     "execution_count": 8,
     "metadata": {},
     "output_type": "execute_result"
    }
   ],
   "source": [
    "import numpy as np\n",
    "from sklearn.impute import KNNImputer\n",
    "import pandas as pd\n",
    "X = oil['dcoilwtico'].values.reshape((203,6))\n",
    "imputer = KNNImputer(n_neighbors=5, weights = 'distance')\n",
    "z = imputer.fit_transform(X)\n",
    "z = z.reshape((1218,1))\n",
    "oil['dcoilwtico'] = z\n",
    "training = pd.merge(train, oil, how = 'left', on='date')\n",
    "training = pd.merge(training, holidays, how = 'left',on = 'date')\n",
    "training = pd.merge(training, transactions, how ='left', on =['date','store_nbr'])\n",
    "training = pd.merge(training, stores, how = 'left', on = 'store_nbr')\n",
    "training.rename(columns={'type_x':'holiday_type', 'type_y':'store_type'}, inplace = True)\n",
    "training.head()"
   ]
  },
  {
   "cell_type": "code",
   "execution_count": 9,
   "id": "561208d1",
   "metadata": {
    "execution": {
     "iopub.execute_input": "2022-08-16T05:39:49.658810Z",
     "iopub.status.busy": "2022-08-16T05:39:49.658346Z",
     "iopub.status.idle": "2022-08-16T05:39:50.116674Z",
     "shell.execute_reply": "2022-08-16T05:39:50.115366Z"
    },
    "papermill": {
     "duration": 0.472585,
     "end_time": "2022-08-16T05:39:50.119973",
     "exception": false,
     "start_time": "2022-08-16T05:39:49.647388",
     "status": "completed"
    },
    "tags": []
   },
   "outputs": [
    {
     "name": "stdout",
     "output_type": "stream",
     "text": [
      "(3054348, 17)\n"
     ]
    },
    {
     "data": {
      "text/plain": [
       "id                    0\n",
       "date                  0\n",
       "store_nbr             0\n",
       "family                0\n",
       "sales                 0\n",
       "onpromotion           0\n",
       "dcoilwtico       878526\n",
       "holiday_type    2551824\n",
       "locale          2551824\n",
       "locale_name     2551824\n",
       "description     2551824\n",
       "transferred     2551824\n",
       "transactions     249117\n",
       "city                  0\n",
       "state                 0\n",
       "store_type            0\n",
       "cluster               0\n",
       "dtype: int64"
      ]
     },
     "execution_count": 9,
     "metadata": {},
     "output_type": "execute_result"
    }
   ],
   "source": [
    "print(training.shape)\n",
    "training.isnull().sum()"
   ]
  },
  {
   "cell_type": "code",
   "execution_count": 10,
   "id": "9c23e549",
   "metadata": {
    "execution": {
     "iopub.execute_input": "2022-08-16T05:39:50.143776Z",
     "iopub.status.busy": "2022-08-16T05:39:50.143282Z",
     "iopub.status.idle": "2022-08-16T05:39:51.103403Z",
     "shell.execute_reply": "2022-08-16T05:39:51.101762Z"
    },
    "papermill": {
     "duration": 0.975288,
     "end_time": "2022-08-16T05:39:51.106330",
     "exception": false,
     "start_time": "2022-08-16T05:39:50.131042",
     "status": "completed"
    },
    "tags": []
   },
   "outputs": [
    {
     "data": {
      "text/html": [
       "<div>\n",
       "<style scoped>\n",
       "    .dataframe tbody tr th:only-of-type {\n",
       "        vertical-align: middle;\n",
       "    }\n",
       "\n",
       "    .dataframe tbody tr th {\n",
       "        vertical-align: top;\n",
       "    }\n",
       "\n",
       "    .dataframe thead th {\n",
       "        text-align: right;\n",
       "    }\n",
       "</style>\n",
       "<table border=\"1\" class=\"dataframe\">\n",
       "  <thead>\n",
       "    <tr style=\"text-align: right;\">\n",
       "      <th></th>\n",
       "      <th>id</th>\n",
       "      <th>date</th>\n",
       "      <th>store_nbr</th>\n",
       "      <th>family</th>\n",
       "      <th>sales</th>\n",
       "      <th>onpromotion</th>\n",
       "      <th>dcoilwtico</th>\n",
       "      <th>holiday_type</th>\n",
       "      <th>locale</th>\n",
       "      <th>locale_name</th>\n",
       "      <th>description</th>\n",
       "      <th>transferred</th>\n",
       "      <th>transactions</th>\n",
       "      <th>city</th>\n",
       "      <th>state</th>\n",
       "      <th>store_type</th>\n",
       "      <th>cluster</th>\n",
       "    </tr>\n",
       "  </thead>\n",
       "  <tbody>\n",
       "    <tr>\n",
       "      <th>0</th>\n",
       "      <td>0</td>\n",
       "      <td>2013-01-01</td>\n",
       "      <td>1</td>\n",
       "      <td>1</td>\n",
       "      <td>0.0</td>\n",
       "      <td>0</td>\n",
       "      <td>93.987927</td>\n",
       "      <td>1.0</td>\n",
       "      <td>3.0</td>\n",
       "      <td>15.0</td>\n",
       "      <td>Primer dia del ano</td>\n",
       "      <td>1.0</td>\n",
       "      <td>0.0</td>\n",
       "      <td>1</td>\n",
       "      <td>Pichincha</td>\n",
       "      <td>1</td>\n",
       "      <td>13</td>\n",
       "    </tr>\n",
       "    <tr>\n",
       "      <th>1</th>\n",
       "      <td>1</td>\n",
       "      <td>2013-01-01</td>\n",
       "      <td>1</td>\n",
       "      <td>2</td>\n",
       "      <td>0.0</td>\n",
       "      <td>0</td>\n",
       "      <td>93.987927</td>\n",
       "      <td>1.0</td>\n",
       "      <td>3.0</td>\n",
       "      <td>15.0</td>\n",
       "      <td>Primer dia del ano</td>\n",
       "      <td>1.0</td>\n",
       "      <td>0.0</td>\n",
       "      <td>1</td>\n",
       "      <td>Pichincha</td>\n",
       "      <td>1</td>\n",
       "      <td>13</td>\n",
       "    </tr>\n",
       "    <tr>\n",
       "      <th>2</th>\n",
       "      <td>2</td>\n",
       "      <td>2013-01-01</td>\n",
       "      <td>1</td>\n",
       "      <td>3</td>\n",
       "      <td>0.0</td>\n",
       "      <td>0</td>\n",
       "      <td>93.987927</td>\n",
       "      <td>1.0</td>\n",
       "      <td>3.0</td>\n",
       "      <td>15.0</td>\n",
       "      <td>Primer dia del ano</td>\n",
       "      <td>1.0</td>\n",
       "      <td>0.0</td>\n",
       "      <td>1</td>\n",
       "      <td>Pichincha</td>\n",
       "      <td>1</td>\n",
       "      <td>13</td>\n",
       "    </tr>\n",
       "    <tr>\n",
       "      <th>3</th>\n",
       "      <td>3</td>\n",
       "      <td>2013-01-01</td>\n",
       "      <td>1</td>\n",
       "      <td>4</td>\n",
       "      <td>0.0</td>\n",
       "      <td>0</td>\n",
       "      <td>93.987927</td>\n",
       "      <td>1.0</td>\n",
       "      <td>3.0</td>\n",
       "      <td>15.0</td>\n",
       "      <td>Primer dia del ano</td>\n",
       "      <td>1.0</td>\n",
       "      <td>0.0</td>\n",
       "      <td>1</td>\n",
       "      <td>Pichincha</td>\n",
       "      <td>1</td>\n",
       "      <td>13</td>\n",
       "    </tr>\n",
       "    <tr>\n",
       "      <th>4</th>\n",
       "      <td>4</td>\n",
       "      <td>2013-01-01</td>\n",
       "      <td>1</td>\n",
       "      <td>5</td>\n",
       "      <td>0.0</td>\n",
       "      <td>0</td>\n",
       "      <td>93.987927</td>\n",
       "      <td>1.0</td>\n",
       "      <td>3.0</td>\n",
       "      <td>15.0</td>\n",
       "      <td>Primer dia del ano</td>\n",
       "      <td>1.0</td>\n",
       "      <td>0.0</td>\n",
       "      <td>1</td>\n",
       "      <td>Pichincha</td>\n",
       "      <td>1</td>\n",
       "      <td>13</td>\n",
       "    </tr>\n",
       "  </tbody>\n",
       "</table>\n",
       "</div>"
      ],
      "text/plain": [
       "   id        date  store_nbr  family  sales  onpromotion  dcoilwtico  \\\n",
       "0   0  2013-01-01          1       1    0.0            0   93.987927   \n",
       "1   1  2013-01-01          1       2    0.0            0   93.987927   \n",
       "2   2  2013-01-01          1       3    0.0            0   93.987927   \n",
       "3   3  2013-01-01          1       4    0.0            0   93.987927   \n",
       "4   4  2013-01-01          1       5    0.0            0   93.987927   \n",
       "\n",
       "   holiday_type  locale  locale_name         description  transferred  \\\n",
       "0           1.0     3.0         15.0  Primer dia del ano          1.0   \n",
       "1           1.0     3.0         15.0  Primer dia del ano          1.0   \n",
       "2           1.0     3.0         15.0  Primer dia del ano          1.0   \n",
       "3           1.0     3.0         15.0  Primer dia del ano          1.0   \n",
       "4           1.0     3.0         15.0  Primer dia del ano          1.0   \n",
       "\n",
       "   transactions  city      state  store_type  cluster  \n",
       "0           0.0     1  Pichincha           1       13  \n",
       "1           0.0     1  Pichincha           1       13  \n",
       "2           0.0     1  Pichincha           1       13  \n",
       "3           0.0     1  Pichincha           1       13  \n",
       "4           0.0     1  Pichincha           1       13  "
      ]
     },
     "execution_count": 10,
     "metadata": {},
     "output_type": "execute_result"
    }
   ],
   "source": [
    "training[['holiday_type']] = training[['holiday_type']].fillna(0)\n",
    "training['transactions']=training['transactions'].fillna(0)\n",
    "training['dcoilwtico']=training['dcoilwtico'].fillna(method='bfill')\n",
    "training['locale_name']= training['locale_name'].fillna(0)\n",
    "training.head()"
   ]
  },
  {
   "cell_type": "code",
   "execution_count": 11,
   "id": "ccf9056c",
   "metadata": {
    "execution": {
     "iopub.execute_input": "2022-08-16T05:39:51.129483Z",
     "iopub.status.busy": "2022-08-16T05:39:51.128856Z",
     "iopub.status.idle": "2022-08-16T05:39:51.629069Z",
     "shell.execute_reply": "2022-08-16T05:39:51.628115Z"
    },
    "papermill": {
     "duration": 0.516191,
     "end_time": "2022-08-16T05:39:51.633106",
     "exception": false,
     "start_time": "2022-08-16T05:39:51.116915",
     "status": "completed"
    },
    "tags": []
   },
   "outputs": [
    {
     "data": {
      "text/plain": [
       "id                    0\n",
       "date                  0\n",
       "store_nbr             0\n",
       "family                0\n",
       "sales                 0\n",
       "onpromotion           0\n",
       "dcoilwtico            0\n",
       "holiday_type          0\n",
       "locale                0\n",
       "locale_name           0\n",
       "description     2551824\n",
       "transferred           0\n",
       "transactions          0\n",
       "city                  0\n",
       "state                 0\n",
       "store_type            0\n",
       "cluster               0\n",
       "dtype: int64"
      ]
     },
     "execution_count": 11,
     "metadata": {},
     "output_type": "execute_result"
    }
   ],
   "source": [
    "training['locale']=training['locale'].fillna(0)\n",
    "training['transferred']=training['transferred'].fillna(0)\n",
    "training.isnull().sum()"
   ]
  },
  {
   "cell_type": "code",
   "execution_count": 12,
   "id": "4aefc69d",
   "metadata": {
    "execution": {
     "iopub.execute_input": "2022-08-16T05:39:51.655340Z",
     "iopub.status.busy": "2022-08-16T05:39:51.654915Z",
     "iopub.status.idle": "2022-08-16T05:39:53.263690Z",
     "shell.execute_reply": "2022-08-16T05:39:53.262704Z"
    },
    "papermill": {
     "duration": 1.622925,
     "end_time": "2022-08-16T05:39:53.266310",
     "exception": false,
     "start_time": "2022-08-16T05:39:51.643385",
     "status": "completed"
    },
    "tags": []
   },
   "outputs": [
    {
     "data": {
      "text/html": [
       "<div>\n",
       "<style scoped>\n",
       "    .dataframe tbody tr th:only-of-type {\n",
       "        vertical-align: middle;\n",
       "    }\n",
       "\n",
       "    .dataframe tbody tr th {\n",
       "        vertical-align: top;\n",
       "    }\n",
       "\n",
       "    .dataframe thead th {\n",
       "        text-align: right;\n",
       "    }\n",
       "</style>\n",
       "<table border=\"1\" class=\"dataframe\">\n",
       "  <thead>\n",
       "    <tr style=\"text-align: right;\">\n",
       "      <th></th>\n",
       "      <th>id</th>\n",
       "      <th>store_nbr</th>\n",
       "      <th>family</th>\n",
       "      <th>sales</th>\n",
       "      <th>onpromotion</th>\n",
       "      <th>dcoilwtico</th>\n",
       "      <th>holiday_type</th>\n",
       "      <th>locale</th>\n",
       "      <th>locale_name</th>\n",
       "      <th>transferred</th>\n",
       "      <th>transactions</th>\n",
       "      <th>city</th>\n",
       "      <th>store_type</th>\n",
       "      <th>cluster</th>\n",
       "    </tr>\n",
       "  </thead>\n",
       "  <tbody>\n",
       "    <tr>\n",
       "      <th>count</th>\n",
       "      <td>3.054348e+06</td>\n",
       "      <td>3.054348e+06</td>\n",
       "      <td>3.054348e+06</td>\n",
       "      <td>3.054348e+06</td>\n",
       "      <td>3.054348e+06</td>\n",
       "      <td>3.054348e+06</td>\n",
       "      <td>3.054348e+06</td>\n",
       "      <td>3.054348e+06</td>\n",
       "      <td>3.054348e+06</td>\n",
       "      <td>3.054348e+06</td>\n",
       "      <td>3.054348e+06</td>\n",
       "      <td>3.054348e+06</td>\n",
       "      <td>3.054348e+06</td>\n",
       "      <td>3.054348e+06</td>\n",
       "    </tr>\n",
       "    <tr>\n",
       "      <th>mean</th>\n",
       "      <td>1.504277e+06</td>\n",
       "      <td>2.750000e+01</td>\n",
       "      <td>1.700000e+01</td>\n",
       "      <td>3.590209e+02</td>\n",
       "      <td>2.617480e+00</td>\n",
       "      <td>6.780550e+01</td>\n",
       "      <td>3.943991e-01</td>\n",
       "      <td>3.465578e-01</td>\n",
       "      <td>2.250875e+00</td>\n",
       "      <td>1.697783e-01</td>\n",
       "      <td>1.558656e+03</td>\n",
       "      <td>7.981481e+00</td>\n",
       "      <td>2.592593e+00</td>\n",
       "      <td>8.481481e+00</td>\n",
       "    </tr>\n",
       "    <tr>\n",
       "      <th>std</th>\n",
       "      <td>8.662610e+05</td>\n",
       "      <td>1.558579e+01</td>\n",
       "      <td>9.521906e+00</td>\n",
       "      <td>1.107286e+03</td>\n",
       "      <td>1.225494e+01</td>\n",
       "      <td>2.568740e+01</td>\n",
       "      <td>1.200784e+00</td>\n",
       "      <td>8.729519e-01</td>\n",
       "      <td>5.485748e+00</td>\n",
       "      <td>3.891727e-01</td>\n",
       "      <td>1.036468e+03</td>\n",
       "      <td>6.881244e+00</td>\n",
       "      <td>1.433960e+00</td>\n",
       "      <td>4.649735e+00</td>\n",
       "    </tr>\n",
       "    <tr>\n",
       "      <th>min</th>\n",
       "      <td>0.000000e+00</td>\n",
       "      <td>1.000000e+00</td>\n",
       "      <td>1.000000e+00</td>\n",
       "      <td>0.000000e+00</td>\n",
       "      <td>0.000000e+00</td>\n",
       "      <td>2.619000e+01</td>\n",
       "      <td>0.000000e+00</td>\n",
       "      <td>0.000000e+00</td>\n",
       "      <td>0.000000e+00</td>\n",
       "      <td>0.000000e+00</td>\n",
       "      <td>0.000000e+00</td>\n",
       "      <td>1.000000e+00</td>\n",
       "      <td>1.000000e+00</td>\n",
       "      <td>1.000000e+00</td>\n",
       "    </tr>\n",
       "    <tr>\n",
       "      <th>25%</th>\n",
       "      <td>7.546768e+05</td>\n",
       "      <td>1.400000e+01</td>\n",
       "      <td>9.000000e+00</td>\n",
       "      <td>0.000000e+00</td>\n",
       "      <td>0.000000e+00</td>\n",
       "      <td>4.628000e+01</td>\n",
       "      <td>0.000000e+00</td>\n",
       "      <td>0.000000e+00</td>\n",
       "      <td>0.000000e+00</td>\n",
       "      <td>0.000000e+00</td>\n",
       "      <td>9.310000e+02</td>\n",
       "      <td>1.000000e+00</td>\n",
       "      <td>1.000000e+00</td>\n",
       "      <td>4.000000e+00</td>\n",
       "    </tr>\n",
       "    <tr>\n",
       "      <th>50%</th>\n",
       "      <td>1.507572e+06</td>\n",
       "      <td>2.750000e+01</td>\n",
       "      <td>1.700000e+01</td>\n",
       "      <td>1.100000e+01</td>\n",
       "      <td>0.000000e+00</td>\n",
       "      <td>5.308500e+01</td>\n",
       "      <td>0.000000e+00</td>\n",
       "      <td>0.000000e+00</td>\n",
       "      <td>0.000000e+00</td>\n",
       "      <td>0.000000e+00</td>\n",
       "      <td>1.332000e+03</td>\n",
       "      <td>7.500000e+00</td>\n",
       "      <td>3.000000e+00</td>\n",
       "      <td>8.500000e+00</td>\n",
       "    </tr>\n",
       "    <tr>\n",
       "      <th>75%</th>\n",
       "      <td>2.255120e+06</td>\n",
       "      <td>4.100000e+01</td>\n",
       "      <td>2.500000e+01</td>\n",
       "      <td>1.960110e+02</td>\n",
       "      <td>0.000000e+00</td>\n",
       "      <td>9.572000e+01</td>\n",
       "      <td>0.000000e+00</td>\n",
       "      <td>0.000000e+00</td>\n",
       "      <td>0.000000e+00</td>\n",
       "      <td>0.000000e+00</td>\n",
       "      <td>1.980000e+03</td>\n",
       "      <td>1.300000e+01</td>\n",
       "      <td>3.000000e+00</td>\n",
       "      <td>1.300000e+01</td>\n",
       "    </tr>\n",
       "    <tr>\n",
       "      <th>max</th>\n",
       "      <td>3.000887e+06</td>\n",
       "      <td>5.400000e+01</td>\n",
       "      <td>3.300000e+01</td>\n",
       "      <td>1.247170e+05</td>\n",
       "      <td>7.410000e+02</td>\n",
       "      <td>1.106200e+02</td>\n",
       "      <td>6.000000e+00</td>\n",
       "      <td>3.000000e+00</td>\n",
       "      <td>2.400000e+01</td>\n",
       "      <td>2.000000e+00</td>\n",
       "      <td>8.359000e+03</td>\n",
       "      <td>2.200000e+01</td>\n",
       "      <td>5.000000e+00</td>\n",
       "      <td>1.700000e+01</td>\n",
       "    </tr>\n",
       "  </tbody>\n",
       "</table>\n",
       "</div>"
      ],
      "text/plain": [
       "                 id     store_nbr        family         sales   onpromotion  \\\n",
       "count  3.054348e+06  3.054348e+06  3.054348e+06  3.054348e+06  3.054348e+06   \n",
       "mean   1.504277e+06  2.750000e+01  1.700000e+01  3.590209e+02  2.617480e+00   \n",
       "std    8.662610e+05  1.558579e+01  9.521906e+00  1.107286e+03  1.225494e+01   \n",
       "min    0.000000e+00  1.000000e+00  1.000000e+00  0.000000e+00  0.000000e+00   \n",
       "25%    7.546768e+05  1.400000e+01  9.000000e+00  0.000000e+00  0.000000e+00   \n",
       "50%    1.507572e+06  2.750000e+01  1.700000e+01  1.100000e+01  0.000000e+00   \n",
       "75%    2.255120e+06  4.100000e+01  2.500000e+01  1.960110e+02  0.000000e+00   \n",
       "max    3.000887e+06  5.400000e+01  3.300000e+01  1.247170e+05  7.410000e+02   \n",
       "\n",
       "         dcoilwtico  holiday_type        locale   locale_name   transferred  \\\n",
       "count  3.054348e+06  3.054348e+06  3.054348e+06  3.054348e+06  3.054348e+06   \n",
       "mean   6.780550e+01  3.943991e-01  3.465578e-01  2.250875e+00  1.697783e-01   \n",
       "std    2.568740e+01  1.200784e+00  8.729519e-01  5.485748e+00  3.891727e-01   \n",
       "min    2.619000e+01  0.000000e+00  0.000000e+00  0.000000e+00  0.000000e+00   \n",
       "25%    4.628000e+01  0.000000e+00  0.000000e+00  0.000000e+00  0.000000e+00   \n",
       "50%    5.308500e+01  0.000000e+00  0.000000e+00  0.000000e+00  0.000000e+00   \n",
       "75%    9.572000e+01  0.000000e+00  0.000000e+00  0.000000e+00  0.000000e+00   \n",
       "max    1.106200e+02  6.000000e+00  3.000000e+00  2.400000e+01  2.000000e+00   \n",
       "\n",
       "       transactions          city    store_type       cluster  \n",
       "count  3.054348e+06  3.054348e+06  3.054348e+06  3.054348e+06  \n",
       "mean   1.558656e+03  7.981481e+00  2.592593e+00  8.481481e+00  \n",
       "std    1.036468e+03  6.881244e+00  1.433960e+00  4.649735e+00  \n",
       "min    0.000000e+00  1.000000e+00  1.000000e+00  1.000000e+00  \n",
       "25%    9.310000e+02  1.000000e+00  1.000000e+00  4.000000e+00  \n",
       "50%    1.332000e+03  7.500000e+00  3.000000e+00  8.500000e+00  \n",
       "75%    1.980000e+03  1.300000e+01  3.000000e+00  1.300000e+01  \n",
       "max    8.359000e+03  2.200000e+01  5.000000e+00  1.700000e+01  "
      ]
     },
     "execution_count": 12,
     "metadata": {},
     "output_type": "execute_result"
    }
   ],
   "source": [
    "training.describe()\n"
   ]
  },
  {
   "cell_type": "code",
   "execution_count": 13,
   "id": "c46b7249",
   "metadata": {
    "execution": {
     "iopub.execute_input": "2022-08-16T05:39:53.291903Z",
     "iopub.status.busy": "2022-08-16T05:39:53.291365Z",
     "iopub.status.idle": "2022-08-16T05:40:14.999631Z",
     "shell.execute_reply": "2022-08-16T05:40:14.998397Z"
    },
    "papermill": {
     "duration": 21.72516,
     "end_time": "2022-08-16T05:40:15.002923",
     "exception": false,
     "start_time": "2022-08-16T05:39:53.277763",
     "status": "completed"
    },
    "tags": []
   },
   "outputs": [
    {
     "data": {
      "text/plain": [
       "Text(0.5, 0, 'store number')"
      ]
     },
     "execution_count": 13,
     "metadata": {},
     "output_type": "execute_result"
    },
    {
     "data": {
      "image/png": "[encoded data removed]",
      "text/plain": [
       "<Figure size 1080x720 with 4 Axes>"
      ]
     },
     "metadata": {
      "needs_background": "light"
     },
     "output_type": "display_data"
    }
   ],
   "source": [
    "import matplotlib.pyplot as plt\n",
    "fig, ((ax0,ax1),(ax2,ax3)) = plt.subplots(2,2, figsize=(15,10), sharex=False)\n",
    "ax0.set_ylabel('sales', fontsize=17)\n",
    "ax1.set_ylabel('sales', fontsize=17)\n",
    "ax2.set_ylabel('sales', fontsize=17)\n",
    "ax3.set_ylabel('sales', fontsize=17)\n",
    "ax0.scatter(training['family'],training['sales'])\n",
    "ax1.scatter(training['dcoilwtico'],training['sales'], color='green')\n",
    "ax2.scatter(training['cluster'],training['sales'], color='blue')\n",
    "ax3.scatter(training['store_nbr'],training['sales'], color='red')\n",
    "ax0.set_xlabel('family', fontsize=17)\n",
    "ax1.set_xlabel('oil price',fontsize=17)\n",
    "ax2.set_xlabel('cluster',fontsize=17)\n",
    "ax3.set_xlabel('store number',fontsize=17)\n"
   ]
  },
  {
   "cell_type": "code",
   "execution_count": 14,
   "id": "c2e106ca",
   "metadata": {
    "execution": {
     "iopub.execute_input": "2022-08-16T05:40:15.029923Z",
     "iopub.status.busy": "2022-08-16T05:40:15.028920Z",
     "iopub.status.idle": "2022-08-16T05:40:38.539577Z",
     "shell.execute_reply": "2022-08-16T05:40:38.538272Z"
    },
    "papermill": {
     "duration": 23.526576,
     "end_time": "2022-08-16T05:40:38.542253",
     "exception": false,
     "start_time": "2022-08-16T05:40:15.015677",
     "status": "completed"
    },
    "tags": []
   },
   "outputs": [
    {
     "data": {
      "text/plain": [
       "<matplotlib.collections.PathCollection at 0x7fcc511f6290>"
      ]
     },
     "execution_count": 14,
     "metadata": {},
     "output_type": "execute_result"
    },
    {
     "data": {
      "image/png": "[encoded data removed]",
      "text/plain": [
       "<Figure size 432x288 with 1 Axes>"
      ]
     },
     "metadata": {
      "needs_background": "light"
     },
     "output_type": "display_data"
    }
   ],
   "source": [
    "plt.scatter(training['date'],training['sales'], color='green')"
   ]
  },
  {
   "cell_type": "code",
   "execution_count": 15,
   "id": "2451f895",
   "metadata": {
    "execution": {
     "iopub.execute_input": "2022-08-16T05:40:38.568865Z",
     "iopub.status.busy": "2022-08-16T05:40:38.567672Z",
     "iopub.status.idle": "2022-08-16T05:40:39.819008Z",
     "shell.execute_reply": "2022-08-16T05:40:39.818042Z"
    },
    "papermill": {
     "duration": 1.267347,
     "end_time": "2022-08-16T05:40:39.821791",
     "exception": false,
     "start_time": "2022-08-16T05:40:38.554444",
     "status": "completed"
    },
    "tags": []
   },
   "outputs": [
    {
     "data": {
      "text/plain": [
       "[<matplotlib.lines.Line2D at 0x7fcc4999f7d0>]"
      ]
     },
     "execution_count": 15,
     "metadata": {},
     "output_type": "execute_result"
    },
    {
     "data": {
      "image/png": "[encoded data removed]",
      "text/plain": [
       "<Figure size 1440x648 with 4 Axes>"
      ]
     },
     "metadata": {
      "needs_background": "light"
     },
     "output_type": "display_data"
    }
   ],
   "source": [
    "famsum = training[['sales','family']].groupby('family').sum()\n",
    "oilsum = training[['sales','dcoilwtico']].groupby('dcoilwtico').sum()\n",
    "oil1 = sorted(training['dcoilwtico'].unique())\n",
    "family = sorted(training['family'].unique())\n",
    "clussum = training[['sales','cluster']].groupby('cluster').sum()\n",
    "cluster = sorted(training['cluster'].unique())\n",
    "citsum = training[['sales','city']].groupby('city').sum()\n",
    "cities = sorted(training['city'].unique())\n",
    "fig,((ax0,ax1),(ax2,ax3)) = plt.subplots(2,2,sharex=False, sharey=False, figsize=(20,9))\n",
    "ax0.set_xticks(family)\n",
    "ax1.set_xticks(cluster)\n",
    "ax0.set_xlabel('family', fontsize=17)\n",
    "ax1.set_xlabel('cluster', fontsize=17)\n",
    "ax1.set_ylabel('total sales', fontsize=17)\n",
    "ax0.set_ylabel('total sales', fontsize=17)\n",
    "ax0.plot(family,famsum)\n",
    "ax1.plot(cluster,clussum, color='green')\n",
    "ax2.set_ylabel('total sales', fontsize=17)\n",
    "ax2.set_xlabel('oil price', fontsize=17)\n",
    "ax2.plot(oil1,oilsum)\n",
    "ax3.set_ylabel('total sales', fontsize=17)\n",
    "ax3.set_xlabel('city', fontsize=17)\n",
    "ax3.plot(cities,citsum)\n"
   ]
  },
  {
   "cell_type": "code",
   "execution_count": 16,
   "id": "9e4c8f22",
   "metadata": {
    "execution": {
     "iopub.execute_input": "2022-08-16T05:40:39.850031Z",
     "iopub.status.busy": "2022-08-16T05:40:39.849593Z",
     "iopub.status.idle": "2022-08-16T05:40:59.188451Z",
     "shell.execute_reply": "2022-08-16T05:40:59.186865Z"
    },
    "papermill": {
     "duration": 19.356065,
     "end_time": "2022-08-16T05:40:59.191088",
     "exception": false,
     "start_time": "2022-08-16T05:40:39.835023",
     "status": "completed"
    },
    "tags": []
   },
   "outputs": [
    {
     "data": {
      "text/plain": [
       "[<matplotlib.lines.Line2D at 0x7fcbf76e8e50>]"
      ]
     },
     "execution_count": 16,
     "metadata": {},
     "output_type": "execute_result"
    },
    {
     "data": {
      "image/png": "[encoded data removed]",
      "text/plain": [
       "<Figure size 1440x648 with 4 Axes>"
      ]
     },
     "metadata": {
      "needs_background": "light"
     },
     "output_type": "display_data"
    }
   ],
   "source": [
    "training['date']=training['date'].str.replace('-','')\n",
    "famsum = training[['sales','holiday_type']].groupby('holiday_type').sum()\n",
    "oilsum = training[['sales','date']].groupby('date').sum()\n",
    "oil1 = sorted(training['date'].unique())\n",
    "family = sorted(training['holiday_type'].unique())\n",
    "clussum = training[['sales','store_type']].groupby('store_type').sum()\n",
    "cluster = sorted(training['store_type'].unique())\n",
    "loc = sorted(training['locale'].unique())\n",
    "locsum = training[['sales','locale']].groupby('locale').sum()\n",
    "oil1 = sorted(training['date'].unique())\n",
    "fig,((ax0,ax1),(ax2,ax3)) = plt.subplots(2,2,sharex=False, sharey=False, figsize=(20,9))\n",
    "ax0.set_xticks(family)\n",
    "ax1.set_xticks(cluster)\n",
    "ax0.set_xlabel('holiday', fontsize=17)\n",
    "ax1.set_xlabel('store type', fontsize=17)\n",
    "ax1.set_ylabel('total sales', fontsize=17)\n",
    "ax0.set_ylabel('total sales', fontsize=17)\n",
    "ax0.plot(family,famsum)\n",
    "ax1.plot(cluster,clussum, color='green')\n",
    "ax2.set_ylabel('total sales', fontsize=17)\n",
    "ax2.set_xlabel('date', fontsize=17)\n",
    "ax2.plot(oil1,oilsum)\n",
    "ax3.set_ylabel('total sales', fontsize=17)\n",
    "ax3.set_xlabel('local', fontsize=17)\n",
    "ax3.plot(loc,locsum)"
   ]
  },
  {
   "cell_type": "code",
   "execution_count": 17,
   "id": "26a2bb43",
   "metadata": {
    "execution": {
     "iopub.execute_input": "2022-08-16T05:40:59.222516Z",
     "iopub.status.busy": "2022-08-16T05:40:59.222108Z",
     "iopub.status.idle": "2022-08-16T05:40:59.244411Z",
     "shell.execute_reply": "2022-08-16T05:40:59.243180Z"
    },
    "papermill": {
     "duration": 0.040961,
     "end_time": "2022-08-16T05:40:59.246945",
     "exception": false,
     "start_time": "2022-08-16T05:40:59.205984",
     "status": "completed"
    },
    "tags": []
   },
   "outputs": [
    {
     "data": {
      "text/html": [
       "<div>\n",
       "<style scoped>\n",
       "    .dataframe tbody tr th:only-of-type {\n",
       "        vertical-align: middle;\n",
       "    }\n",
       "\n",
       "    .dataframe tbody tr th {\n",
       "        vertical-align: top;\n",
       "    }\n",
       "\n",
       "    .dataframe thead th {\n",
       "        text-align: right;\n",
       "    }\n",
       "</style>\n",
       "<table border=\"1\" class=\"dataframe\">\n",
       "  <thead>\n",
       "    <tr style=\"text-align: right;\">\n",
       "      <th></th>\n",
       "      <th>id</th>\n",
       "      <th>date</th>\n",
       "      <th>store_nbr</th>\n",
       "      <th>family</th>\n",
       "      <th>sales</th>\n",
       "      <th>onpromotion</th>\n",
       "      <th>dcoilwtico</th>\n",
       "      <th>holiday_type</th>\n",
       "      <th>locale</th>\n",
       "      <th>locale_name</th>\n",
       "      <th>description</th>\n",
       "      <th>transferred</th>\n",
       "      <th>transactions</th>\n",
       "      <th>city</th>\n",
       "      <th>state</th>\n",
       "      <th>store_type</th>\n",
       "      <th>cluster</th>\n",
       "    </tr>\n",
       "  </thead>\n",
       "  <tbody>\n",
       "    <tr>\n",
       "      <th>0</th>\n",
       "      <td>0</td>\n",
       "      <td>20130101</td>\n",
       "      <td>1</td>\n",
       "      <td>1</td>\n",
       "      <td>0.0</td>\n",
       "      <td>0</td>\n",
       "      <td>93.987927</td>\n",
       "      <td>1.0</td>\n",
       "      <td>3.0</td>\n",
       "      <td>15.0</td>\n",
       "      <td>Primer dia del ano</td>\n",
       "      <td>1.0</td>\n",
       "      <td>0.0</td>\n",
       "      <td>1</td>\n",
       "      <td>Pichincha</td>\n",
       "      <td>1</td>\n",
       "      <td>13</td>\n",
       "    </tr>\n",
       "    <tr>\n",
       "      <th>1</th>\n",
       "      <td>1</td>\n",
       "      <td>20130101</td>\n",
       "      <td>1</td>\n",
       "      <td>2</td>\n",
       "      <td>0.0</td>\n",
       "      <td>0</td>\n",
       "      <td>93.987927</td>\n",
       "      <td>1.0</td>\n",
       "      <td>3.0</td>\n",
       "      <td>15.0</td>\n",
       "      <td>Primer dia del ano</td>\n",
       "      <td>1.0</td>\n",
       "      <td>0.0</td>\n",
       "      <td>1</td>\n",
       "      <td>Pichincha</td>\n",
       "      <td>1</td>\n",
       "      <td>13</td>\n",
       "    </tr>\n",
       "    <tr>\n",
       "      <th>2</th>\n",
       "      <td>2</td>\n",
       "      <td>20130101</td>\n",
       "      <td>1</td>\n",
       "      <td>3</td>\n",
       "      <td>0.0</td>\n",
       "      <td>0</td>\n",
       "      <td>93.987927</td>\n",
       "      <td>1.0</td>\n",
       "      <td>3.0</td>\n",
       "      <td>15.0</td>\n",
       "      <td>Primer dia del ano</td>\n",
       "      <td>1.0</td>\n",
       "      <td>0.0</td>\n",
       "      <td>1</td>\n",
       "      <td>Pichincha</td>\n",
       "      <td>1</td>\n",
       "      <td>13</td>\n",
       "    </tr>\n",
       "    <tr>\n",
       "      <th>3</th>\n",
       "      <td>3</td>\n",
       "      <td>20130101</td>\n",
       "      <td>1</td>\n",
       "      <td>4</td>\n",
       "      <td>0.0</td>\n",
       "      <td>0</td>\n",
       "      <td>93.987927</td>\n",
       "      <td>1.0</td>\n",
       "      <td>3.0</td>\n",
       "      <td>15.0</td>\n",
       "      <td>Primer dia del ano</td>\n",
       "      <td>1.0</td>\n",
       "      <td>0.0</td>\n",
       "      <td>1</td>\n",
       "      <td>Pichincha</td>\n",
       "      <td>1</td>\n",
       "      <td>13</td>\n",
       "    </tr>\n",
       "    <tr>\n",
       "      <th>4</th>\n",
       "      <td>4</td>\n",
       "      <td>20130101</td>\n",
       "      <td>1</td>\n",
       "      <td>5</td>\n",
       "      <td>0.0</td>\n",
       "      <td>0</td>\n",
       "      <td>93.987927</td>\n",
       "      <td>1.0</td>\n",
       "      <td>3.0</td>\n",
       "      <td>15.0</td>\n",
       "      <td>Primer dia del ano</td>\n",
       "      <td>1.0</td>\n",
       "      <td>0.0</td>\n",
       "      <td>1</td>\n",
       "      <td>Pichincha</td>\n",
       "      <td>1</td>\n",
       "      <td>13</td>\n",
       "    </tr>\n",
       "  </tbody>\n",
       "</table>\n",
       "</div>"
      ],
      "text/plain": [
       "   id      date  store_nbr  family  sales  onpromotion  dcoilwtico  \\\n",
       "0   0  20130101          1       1    0.0            0   93.987927   \n",
       "1   1  20130101          1       2    0.0            0   93.987927   \n",
       "2   2  20130101          1       3    0.0            0   93.987927   \n",
       "3   3  20130101          1       4    0.0            0   93.987927   \n",
       "4   4  20130101          1       5    0.0            0   93.987927   \n",
       "\n",
       "   holiday_type  locale  locale_name         description  transferred  \\\n",
       "0           1.0     3.0         15.0  Primer dia del ano          1.0   \n",
       "1           1.0     3.0         15.0  Primer dia del ano          1.0   \n",
       "2           1.0     3.0         15.0  Primer dia del ano          1.0   \n",
       "3           1.0     3.0         15.0  Primer dia del ano          1.0   \n",
       "4           1.0     3.0         15.0  Primer dia del ano          1.0   \n",
       "\n",
       "   transactions  city      state  store_type  cluster  \n",
       "0           0.0     1  Pichincha           1       13  \n",
       "1           0.0     1  Pichincha           1       13  \n",
       "2           0.0     1  Pichincha           1       13  \n",
       "3           0.0     1  Pichincha           1       13  \n",
       "4           0.0     1  Pichincha           1       13  "
      ]
     },
     "execution_count": 17,
     "metadata": {},
     "output_type": "execute_result"
    }
   ],
   "source": [
    "training.head()"
   ]
  },
  {
   "cell_type": "code",
   "execution_count": 18,
   "id": "f579b116",
   "metadata": {
    "execution": {
     "iopub.execute_input": "2022-08-16T05:40:59.278531Z",
     "iopub.status.busy": "2022-08-16T05:40:59.277436Z",
     "iopub.status.idle": "2022-08-16T05:40:59.282002Z",
     "shell.execute_reply": "2022-08-16T05:40:59.281064Z"
    },
    "papermill": {
     "duration": 0.022977,
     "end_time": "2022-08-16T05:40:59.284454",
     "exception": false,
     "start_time": "2022-08-16T05:40:59.261477",
     "status": "completed"
    },
    "tags": []
   },
   "outputs": [],
   "source": [
    "# From the above plots we see that the holiday type and locale has almost\n",
    "# the same impact on the sales. So, using one would be fine. And using city\n",
    "# instead of state would be more general.\n",
    "#We will also ignore the transferred column to prevent power consumption due to more \n",
    "# features assuming holiday that has been transferred won't impact the sales as much."
   ]
  },
  {
   "cell_type": "code",
   "execution_count": 19,
   "id": "5d1e7ed3",
   "metadata": {
    "execution": {
     "iopub.execute_input": "2022-08-16T05:40:59.315851Z",
     "iopub.status.busy": "2022-08-16T05:40:59.315204Z",
     "iopub.status.idle": "2022-08-16T05:46:16.887348Z",
     "shell.execute_reply": "2022-08-16T05:46:16.885994Z"
    },
    "papermill": {
     "duration": 317.607191,
     "end_time": "2022-08-16T05:46:16.906230",
     "exception": false,
     "start_time": "2022-08-16T05:40:59.299039",
     "status": "completed"
    },
    "tags": []
   },
   "outputs": [
    {
     "name": "stderr",
     "output_type": "stream",
     "text": [
      "/opt/conda/lib/python3.7/site-packages/ipykernel_launcher.py:12: DataConversionWarning: A column-vector y was passed when a 1d array was expected. Please change the shape of y to (n_samples,), for example using ravel().\n",
      "  if sys.path[0] == \"\":\n"
     ]
    },
    {
     "data": {
      "text/plain": [
       "0.957142272428658"
      ]
     },
     "execution_count": 19,
     "metadata": {},
     "output_type": "execute_result"
    }
   ],
   "source": [
    "training1 = training[training['sales']<80000]\n",
    "\n",
    "X = training1[['id', 'date','store_nbr', 'family', 'onpromotion',\n",
    "              'dcoilwtico', 'holiday_type','locale_name','cluster',\n",
    "              'transactions', 'store_type', 'city']]\n",
    "Y = training1[['sales']]\n",
    "\n",
    "from sklearn.model_selection import train_test_split\n",
    "X_train,X_test,y_train,y_test = train_test_split(X,Y,test_size = 0.2)\n",
    "from sklearn.ensemble import RandomForestRegressor\n",
    "RFR = RandomForestRegressor(n_estimators = 12, random_state=1)\n",
    "rr = RFR.fit(X_train,y_train)\n",
    "rr.score(X_test, y_test)"
   ]
  },
  {
   "cell_type": "code",
   "execution_count": 20,
   "id": "e88be3a4",
   "metadata": {
    "execution": {
     "iopub.execute_input": "2022-08-16T05:46:16.938390Z",
     "iopub.status.busy": "2022-08-16T05:46:16.937495Z",
     "iopub.status.idle": "2022-08-16T05:46:17.534170Z",
     "shell.execute_reply": "2022-08-16T05:46:17.532917Z"
    },
    "papermill": {
     "duration": 0.615805,
     "end_time": "2022-08-16T05:46:17.536810",
     "exception": false,
     "start_time": "2022-08-16T05:46:16.921005",
     "status": "completed"
    },
    "tags": []
   },
   "outputs": [
    {
     "name": "stdout",
     "output_type": "stream",
     "text": [
      "('id', 0.05020437354043472)\n",
      "('date', 0.017993268567021742)\n",
      "('store_nbr', 0.020666668099790175)\n",
      "('family', 0.3682867973569419)\n",
      "('onpromotion', 0.2509637006137006)\n",
      "('dcoilwtico', 0.010946597243920629)\n",
      "('holiday_type', 0.0015561062028313151)\n",
      "('locale_name', 0.0016639271996605326)\n",
      "('cluster', 0.01675129326627141)\n",
      "('transactions', 0.2450161572393764)\n",
      "('store_type', 0.009850563551682335)\n",
      "('city', 0.006100547118368219)\n"
     ]
    }
   ],
   "source": [
    "# r2 score of 0.947 with too many features\n",
    "# lets see each feature's contribution\n",
    "\n",
    "feat_labels = training1[['id', 'date','store_nbr', 'family', 'onpromotion',\n",
    "              'dcoilwtico', 'holiday_type','locale_name','cluster',\n",
    "              'transactions', 'store_type', 'city']]\n",
    "for feature in zip(feat_labels, rr.feature_importances_):\n",
    "    print(feature)"
   ]
  },
  {
   "cell_type": "code",
   "execution_count": 21,
   "id": "2f94e955",
   "metadata": {
    "execution": {
     "iopub.execute_input": "2022-08-16T05:46:17.568252Z",
     "iopub.status.busy": "2022-08-16T05:46:17.567817Z",
     "iopub.status.idle": "2022-08-16T05:46:17.584031Z",
     "shell.execute_reply": "2022-08-16T05:46:17.582602Z"
    },
    "papermill": {
     "duration": 0.035243,
     "end_time": "2022-08-16T05:46:17.586852",
     "exception": false,
     "start_time": "2022-08-16T05:46:17.551609",
     "status": "completed"
    },
    "tags": []
   },
   "outputs": [
    {
     "data": {
      "text/plain": [
       "id              15\n",
       "date            15\n",
       "store_nbr       15\n",
       "family          15\n",
       "sales           15\n",
       "onpromotion     15\n",
       "dcoilwtico      15\n",
       "holiday_type    15\n",
       "locale          15\n",
       "locale_name     15\n",
       "description     10\n",
       "transferred     15\n",
       "transactions    15\n",
       "city            15\n",
       "state           15\n",
       "store_type      15\n",
       "cluster         15\n",
       "dtype: int64"
      ]
     },
     "execution_count": 21,
     "metadata": {},
     "output_type": "execute_result"
    }
   ],
   "source": [
    "training[training['sales']>35000].count()"
   ]
  },
  {
   "cell_type": "code",
   "execution_count": 22,
   "id": "754e779a",
   "metadata": {
    "execution": {
     "iopub.execute_input": "2022-08-16T05:46:17.619202Z",
     "iopub.status.busy": "2022-08-16T05:46:17.617967Z",
     "iopub.status.idle": "2022-08-16T05:49:13.727645Z",
     "shell.execute_reply": "2022-08-16T05:49:13.725887Z"
    },
    "papermill": {
     "duration": 176.143622,
     "end_time": "2022-08-16T05:49:13.745299",
     "exception": false,
     "start_time": "2022-08-16T05:46:17.601677",
     "status": "completed"
    },
    "tags": []
   },
   "outputs": [
    {
     "data": {
      "text/plain": [
       "0.9627671160335209"
      ]
     },
     "execution_count": 22,
     "metadata": {},
     "output_type": "execute_result"
    }
   ],
   "source": [
    "# selecting features on the basis of contribution to the prediction\n",
    "training2 = training[training['sales']<40000]\n",
    "x = training2[['id', 'date','store_nbr', 'family', 'onpromotion',\n",
    "        'transactions','cluster']]\n",
    "Y=training2['sales']\n",
    "X_train,X_test,y_train,y_test = train_test_split(x,Y,test_size = 0.2)\n",
    "from sklearn.ensemble import RandomForestRegressor\n",
    "RFR = RandomForestRegressor(n_estimators = 9)\n",
    "rr1 = RFR.fit(X_train,y_train)\n",
    "rr1.score(X_test, y_test)"
   ]
  },
  {
   "cell_type": "code",
   "execution_count": 23,
   "id": "847bfd02",
   "metadata": {
    "execution": {
     "iopub.execute_input": "2022-08-16T05:49:13.777660Z",
     "iopub.status.busy": "2022-08-16T05:49:13.777260Z",
     "iopub.status.idle": "2022-08-16T05:52:21.719143Z",
     "shell.execute_reply": "2022-08-16T05:52:21.717480Z"
    },
    "papermill": {
     "duration": 187.963658,
     "end_time": "2022-08-16T05:52:21.724075",
     "exception": false,
     "start_time": "2022-08-16T05:49:13.760417",
     "status": "completed"
    },
    "tags": []
   },
   "outputs": [],
   "source": [
    "rr1 = RFR.fit(x,Y)         #add more training data to reduce the variance"
   ]
  },
  {
   "cell_type": "code",
   "execution_count": 24,
   "id": "bead7b89",
   "metadata": {
    "execution": {
     "iopub.execute_input": "2022-08-16T05:52:21.758978Z",
     "iopub.status.busy": "2022-08-16T05:52:21.758505Z",
     "iopub.status.idle": "2022-08-16T05:52:22.333371Z",
     "shell.execute_reply": "2022-08-16T05:52:22.331922Z"
    },
    "papermill": {
     "duration": 0.594558,
     "end_time": "2022-08-16T05:52:22.336001",
     "exception": false,
     "start_time": "2022-08-16T05:52:21.741443",
     "status": "completed"
    },
    "tags": []
   },
   "outputs": [
    {
     "name": "stdout",
     "output_type": "stream",
     "text": [
      "('id', 0.06285695436516635)\n",
      "('date', 0.01550861519700022)\n",
      "('store_nbr', 0.03054493179182763)\n",
      "('family', 0.37125667472135987)\n",
      "('onpromotion', 0.24928662210934271)\n",
      "('transactions', 0.2488729950608916)\n",
      "('cluster', 0.021673206754411697)\n"
     ]
    }
   ],
   "source": [
    "# r2 score of 0.96\n",
    "\n",
    "feat = training2[['id', 'date','store_nbr', 'family', 'onpromotion',\n",
    "        'transactions','cluster']]\n",
    "for feature in zip(feat, rr1.feature_importances_):\n",
    "    print(feature)"
   ]
  },
  {
   "cell_type": "code",
   "execution_count": 25,
   "id": "a0572f4e",
   "metadata": {
    "execution": {
     "iopub.execute_input": "2022-08-16T05:52:22.368577Z",
     "iopub.status.busy": "2022-08-16T05:52:22.367845Z",
     "iopub.status.idle": "2022-08-16T05:52:22.372544Z",
     "shell.execute_reply": "2022-08-16T05:52:22.371700Z"
    },
    "papermill": {
     "duration": 0.02332,
     "end_time": "2022-08-16T05:52:22.374775",
     "exception": false,
     "start_time": "2022-08-16T05:52:22.351455",
     "status": "completed"
    },
    "tags": []
   },
   "outputs": [],
   "source": [
    "#lets try to further reduce the feature set\n",
    "\n",
    "# x1 = training[['id', 'family', 'onpromotion','transactions']]\n",
    "# X_train,X_test,y_train,y_test = train_test_split(x1,Y,test_size = 0.2)\n",
    "# from sklearn.ensemble import RandomForestRegressor\n",
    "# RFR = RandomForestRegressor(n_estimators = 8)\n",
    "# rr2 = RFR.fit(X_train,y_train)\n",
    "# rr2.score(X_test, y_test)"
   ]
  },
  {
   "cell_type": "code",
   "execution_count": 26,
   "id": "5f2a952b",
   "metadata": {
    "execution": {
     "iopub.execute_input": "2022-08-16T05:52:22.407818Z",
     "iopub.status.busy": "2022-08-16T05:52:22.407178Z",
     "iopub.status.idle": "2022-08-16T05:52:24.731338Z",
     "shell.execute_reply": "2022-08-16T05:52:24.730140Z"
    },
    "papermill": {
     "duration": 2.343791,
     "end_time": "2022-08-16T05:52:24.733936",
     "exception": false,
     "start_time": "2022-08-16T05:52:22.390145",
     "status": "completed"
    },
    "tags": []
   },
   "outputs": [
    {
     "name": "stdout",
     "output_type": "stream",
     "text": [
      "{'AUTOMOTIVE': 1, 'BABY CARE': 2, 'BEAUTY': 3, 'BEVERAGES': 4, 'BOOKS': 5, 'BREAD/BAKERY': 6, 'CELEBRATION': 7, 'CLEANING': 8, 'DAIRY': 9, 'DELI': 10, 'EGGS': 11, 'FROZEN FOODS': 12, 'GROCERY I': 13, 'GROCERY II': 14, 'HARDWARE': 15, 'HOME AND KITCHEN I': 16, 'HOME AND KITCHEN II': 17, 'HOME APPLIANCES': 18, 'HOME CARE': 19, 'LADIESWEAR': 20, 'LAWN AND GARDEN': 21, 'LINGERIE': 22, 'LIQUOR,WINE,BEER': 23, 'MAGAZINES': 24, 'MEATS': 25, 'PERSONAL CARE': 26, 'PET SUPPLIES': 27, 'PLAYERS AND ELECTRONICS': 28, 'POULTRY': 29, 'PREPARED FOODS': 30, 'PRODUCE': 31, 'SCHOOL AND OFFICE SUPPLIES': 32, 'SEAFOOD': 33}\n",
      "test/n id                  0\n",
      "date                0\n",
      "store_nbr           0\n",
      "family              0\n",
      "onpromotion         0\n",
      "dcoilwtico          0\n",
      "holiday_type        0\n",
      "locale              0\n",
      "locale_name         0\n",
      "description     26730\n",
      "transferred     26730\n",
      "city                0\n",
      "state               0\n",
      "store_type          0\n",
      "cluster             0\n",
      "transactions        0\n",
      "dtype: int64\n"
     ]
    },
    {
     "data": {
      "text/html": [
       "<div>\n",
       "<style scoped>\n",
       "    .dataframe tbody tr th:only-of-type {\n",
       "        vertical-align: middle;\n",
       "    }\n",
       "\n",
       "    .dataframe tbody tr th {\n",
       "        vertical-align: top;\n",
       "    }\n",
       "\n",
       "    .dataframe thead th {\n",
       "        text-align: right;\n",
       "    }\n",
       "</style>\n",
       "<table border=\"1\" class=\"dataframe\">\n",
       "  <thead>\n",
       "    <tr style=\"text-align: right;\">\n",
       "      <th></th>\n",
       "      <th>id</th>\n",
       "      <th>date</th>\n",
       "      <th>store_nbr</th>\n",
       "      <th>family</th>\n",
       "      <th>onpromotion</th>\n",
       "      <th>dcoilwtico</th>\n",
       "      <th>holiday_type</th>\n",
       "      <th>locale</th>\n",
       "      <th>locale_name</th>\n",
       "      <th>description</th>\n",
       "      <th>transferred</th>\n",
       "      <th>city</th>\n",
       "      <th>state</th>\n",
       "      <th>store_type</th>\n",
       "      <th>cluster</th>\n",
       "      <th>transactions</th>\n",
       "    </tr>\n",
       "  </thead>\n",
       "  <tbody>\n",
       "    <tr>\n",
       "      <th>0</th>\n",
       "      <td>3000888</td>\n",
       "      <td>2017-08-16</td>\n",
       "      <td>1</td>\n",
       "      <td>1</td>\n",
       "      <td>0</td>\n",
       "      <td>46.8</td>\n",
       "      <td>0.0</td>\n",
       "      <td>0.0</td>\n",
       "      <td>0.0</td>\n",
       "      <td>NaN</td>\n",
       "      <td>NaN</td>\n",
       "      <td>1</td>\n",
       "      <td>Pichincha</td>\n",
       "      <td>1</td>\n",
       "      <td>13</td>\n",
       "      <td>0.0</td>\n",
       "    </tr>\n",
       "    <tr>\n",
       "      <th>1</th>\n",
       "      <td>3000889</td>\n",
       "      <td>2017-08-16</td>\n",
       "      <td>1</td>\n",
       "      <td>2</td>\n",
       "      <td>0</td>\n",
       "      <td>46.8</td>\n",
       "      <td>0.0</td>\n",
       "      <td>0.0</td>\n",
       "      <td>0.0</td>\n",
       "      <td>NaN</td>\n",
       "      <td>NaN</td>\n",
       "      <td>1</td>\n",
       "      <td>Pichincha</td>\n",
       "      <td>1</td>\n",
       "      <td>13</td>\n",
       "      <td>0.0</td>\n",
       "    </tr>\n",
       "    <tr>\n",
       "      <th>2</th>\n",
       "      <td>3000890</td>\n",
       "      <td>2017-08-16</td>\n",
       "      <td>1</td>\n",
       "      <td>3</td>\n",
       "      <td>2</td>\n",
       "      <td>46.8</td>\n",
       "      <td>0.0</td>\n",
       "      <td>0.0</td>\n",
       "      <td>0.0</td>\n",
       "      <td>NaN</td>\n",
       "      <td>NaN</td>\n",
       "      <td>1</td>\n",
       "      <td>Pichincha</td>\n",
       "      <td>1</td>\n",
       "      <td>13</td>\n",
       "      <td>0.0</td>\n",
       "    </tr>\n",
       "    <tr>\n",
       "      <th>3</th>\n",
       "      <td>3000891</td>\n",
       "      <td>2017-08-16</td>\n",
       "      <td>1</td>\n",
       "      <td>4</td>\n",
       "      <td>20</td>\n",
       "      <td>46.8</td>\n",
       "      <td>0.0</td>\n",
       "      <td>0.0</td>\n",
       "      <td>0.0</td>\n",
       "      <td>NaN</td>\n",
       "      <td>NaN</td>\n",
       "      <td>1</td>\n",
       "      <td>Pichincha</td>\n",
       "      <td>1</td>\n",
       "      <td>13</td>\n",
       "      <td>0.0</td>\n",
       "    </tr>\n",
       "    <tr>\n",
       "      <th>4</th>\n",
       "      <td>3000892</td>\n",
       "      <td>2017-08-16</td>\n",
       "      <td>1</td>\n",
       "      <td>5</td>\n",
       "      <td>0</td>\n",
       "      <td>46.8</td>\n",
       "      <td>0.0</td>\n",
       "      <td>0.0</td>\n",
       "      <td>0.0</td>\n",
       "      <td>NaN</td>\n",
       "      <td>NaN</td>\n",
       "      <td>1</td>\n",
       "      <td>Pichincha</td>\n",
       "      <td>1</td>\n",
       "      <td>13</td>\n",
       "      <td>0.0</td>\n",
       "    </tr>\n",
       "  </tbody>\n",
       "</table>\n",
       "</div>"
      ],
      "text/plain": [
       "        id        date  store_nbr  family  onpromotion  dcoilwtico  \\\n",
       "0  3000888  2017-08-16          1       1            0        46.8   \n",
       "1  3000889  2017-08-16          1       2            0        46.8   \n",
       "2  3000890  2017-08-16          1       3            2        46.8   \n",
       "3  3000891  2017-08-16          1       4           20        46.8   \n",
       "4  3000892  2017-08-16          1       5            0        46.8   \n",
       "\n",
       "   holiday_type  locale  locale_name description  transferred  city  \\\n",
       "0           0.0     0.0          0.0         NaN          NaN     1   \n",
       "1           0.0     0.0          0.0         NaN          NaN     1   \n",
       "2           0.0     0.0          0.0         NaN          NaN     1   \n",
       "3           0.0     0.0          0.0         NaN          NaN     1   \n",
       "4           0.0     0.0          0.0         NaN          NaN     1   \n",
       "\n",
       "       state  store_type  cluster  transactions  \n",
       "0  Pichincha           1       13           0.0  \n",
       "1  Pichincha           1       13           0.0  \n",
       "2  Pichincha           1       13           0.0  \n",
       "3  Pichincha           1       13           0.0  \n",
       "4  Pichincha           1       13           0.0  "
      ]
     },
     "execution_count": 26,
     "metadata": {},
     "output_type": "execute_result"
    }
   ],
   "source": [
    "testing = pd.merge(test, oil, on='date', how='left')\n",
    "testing = pd.merge(testing, holidays, on='date', how='left')\n",
    "testing = pd.merge(testing, stores, on='store_nbr', how='left')\n",
    "testing = pd.merge(testing, transactions, on=['store_nbr', 'date'], how='left')\n",
    "testing.rename(columns={'type_x':'holiday_type', 'type_y':'store_type'}, inplace=True)\n",
    "testing['family'] = str_to_num(testing['family'])\n",
    "testing['holiday_type'] = testing['holiday_type'].fillna(0)\n",
    "testing['locale_name'] = testing['locale_name'].fillna(0)\n",
    "testing['locale']=testing['locale'].fillna(0)\n",
    "testing['transactions']=testing['transactions'].fillna(0)\n",
    "X = testing['dcoilwtico'].values.reshape((9504,3))\n",
    "imputer = KNNImputer(n_neighbors=5, weights = 'distance')\n",
    "z = imputer.fit_transform(X)\n",
    "z=z.reshape((28512,1))\n",
    "testing['dcoilwtico']=z\n",
    "print('test/n',testing.isnull().sum())\n",
    "testing.head()"
   ]
  },
  {
   "cell_type": "code",
   "execution_count": 27,
   "id": "73669f84",
   "metadata": {
    "execution": {
     "iopub.execute_input": "2022-08-16T05:52:24.766694Z",
     "iopub.status.busy": "2022-08-16T05:52:24.766295Z",
     "iopub.status.idle": "2022-08-16T05:52:24.884001Z",
     "shell.execute_reply": "2022-08-16T05:52:24.882782Z"
    },
    "papermill": {
     "duration": 0.137267,
     "end_time": "2022-08-16T05:52:24.886679",
     "exception": false,
     "start_time": "2022-08-16T05:52:24.749412",
     "status": "completed"
    },
    "tags": []
   },
   "outputs": [
    {
     "data": {
      "text/plain": [
       "array([   0.        ,    0.        ,    2.44444444, ..., 1406.04677778,\n",
       "         56.55555556,    3.96      ])"
      ]
     },
     "execution_count": 27,
     "metadata": {},
     "output_type": "execute_result"
    }
   ],
   "source": [
    "testing['date']=testing['date'].str.replace('-','')\n",
    "x = testing[['id', 'date','store_nbr', 'family', 'onpromotion',\n",
    "        'transactions','cluster']]       \n",
    "yhat = rr1.predict(x)\n",
    "yhat"
   ]
  },
  {
   "cell_type": "code",
   "execution_count": 28,
   "id": "b5085653",
   "metadata": {
    "execution": {
     "iopub.execute_input": "2022-08-16T05:52:24.920619Z",
     "iopub.status.busy": "2022-08-16T05:52:24.920229Z",
     "iopub.status.idle": "2022-08-16T05:52:24.933909Z",
     "shell.execute_reply": "2022-08-16T05:52:24.932496Z"
    },
    "papermill": {
     "duration": 0.03423,
     "end_time": "2022-08-16T05:52:24.936796",
     "exception": false,
     "start_time": "2022-08-16T05:52:24.902566",
     "status": "completed"
    },
    "tags": []
   },
   "outputs": [
    {
     "data": {
      "text/html": [
       "<div>\n",
       "<style scoped>\n",
       "    .dataframe tbody tr th:only-of-type {\n",
       "        vertical-align: middle;\n",
       "    }\n",
       "\n",
       "    .dataframe tbody tr th {\n",
       "        vertical-align: top;\n",
       "    }\n",
       "\n",
       "    .dataframe thead th {\n",
       "        text-align: right;\n",
       "    }\n",
       "</style>\n",
       "<table border=\"1\" class=\"dataframe\">\n",
       "  <thead>\n",
       "    <tr style=\"text-align: right;\">\n",
       "      <th></th>\n",
       "      <th>id</th>\n",
       "    </tr>\n",
       "  </thead>\n",
       "  <tbody>\n",
       "    <tr>\n",
       "      <th>0</th>\n",
       "      <td>3000888</td>\n",
       "    </tr>\n",
       "    <tr>\n",
       "      <th>1</th>\n",
       "      <td>3000889</td>\n",
       "    </tr>\n",
       "    <tr>\n",
       "      <th>2</th>\n",
       "      <td>3000890</td>\n",
       "    </tr>\n",
       "    <tr>\n",
       "      <th>3</th>\n",
       "      <td>3000891</td>\n",
       "    </tr>\n",
       "    <tr>\n",
       "      <th>4</th>\n",
       "      <td>3000892</td>\n",
       "    </tr>\n",
       "    <tr>\n",
       "      <th>...</th>\n",
       "      <td>...</td>\n",
       "    </tr>\n",
       "    <tr>\n",
       "      <th>28507</th>\n",
       "      <td>3029395</td>\n",
       "    </tr>\n",
       "    <tr>\n",
       "      <th>28508</th>\n",
       "      <td>3029396</td>\n",
       "    </tr>\n",
       "    <tr>\n",
       "      <th>28509</th>\n",
       "      <td>3029397</td>\n",
       "    </tr>\n",
       "    <tr>\n",
       "      <th>28510</th>\n",
       "      <td>3029398</td>\n",
       "    </tr>\n",
       "    <tr>\n",
       "      <th>28511</th>\n",
       "      <td>3029399</td>\n",
       "    </tr>\n",
       "  </tbody>\n",
       "</table>\n",
       "<p>28512 rows × 1 columns</p>\n",
       "</div>"
      ],
      "text/plain": [
       "            id\n",
       "0      3000888\n",
       "1      3000889\n",
       "2      3000890\n",
       "3      3000891\n",
       "4      3000892\n",
       "...        ...\n",
       "28507  3029395\n",
       "28508  3029396\n",
       "28509  3029397\n",
       "28510  3029398\n",
       "28511  3029399\n",
       "\n",
       "[28512 rows x 1 columns]"
      ]
     },
     "execution_count": 28,
     "metadata": {},
     "output_type": "execute_result"
    }
   ],
   "source": [
    "submission = testing[['id']]\n",
    "submission"
   ]
  },
  {
   "cell_type": "code",
   "execution_count": 29,
   "id": "6f0d6798",
   "metadata": {
    "execution": {
     "iopub.execute_input": "2022-08-16T05:52:24.971501Z",
     "iopub.status.busy": "2022-08-16T05:52:24.971109Z",
     "iopub.status.idle": "2022-08-16T05:52:24.986061Z",
     "shell.execute_reply": "2022-08-16T05:52:24.984894Z"
    },
    "papermill": {
     "duration": 0.034749,
     "end_time": "2022-08-16T05:52:24.988266",
     "exception": false,
     "start_time": "2022-08-16T05:52:24.953517",
     "status": "completed"
    },
    "tags": []
   },
   "outputs": [
    {
     "name": "stderr",
     "output_type": "stream",
     "text": [
      "/opt/conda/lib/python3.7/site-packages/ipykernel_launcher.py:1: SettingWithCopyWarning: \n",
      "A value is trying to be set on a copy of a slice from a DataFrame.\n",
      "Try using .loc[row_indexer,col_indexer] = value instead\n",
      "\n",
      "See the caveats in the documentation: https://pandas.pydata.org/pandas-docs/stable/user_guide/indexing.html#returning-a-view-versus-a-copy\n",
      "  \"\"\"Entry point for launching an IPython kernel.\n"
     ]
    },
    {
     "data": {
      "text/html": [
       "<div>\n",
       "<style scoped>\n",
       "    .dataframe tbody tr th:only-of-type {\n",
       "        vertical-align: middle;\n",
       "    }\n",
       "\n",
       "    .dataframe tbody tr th {\n",
       "        vertical-align: top;\n",
       "    }\n",
       "\n",
       "    .dataframe thead th {\n",
       "        text-align: right;\n",
       "    }\n",
       "</style>\n",
       "<table border=\"1\" class=\"dataframe\">\n",
       "  <thead>\n",
       "    <tr style=\"text-align: right;\">\n",
       "      <th></th>\n",
       "      <th>id</th>\n",
       "      <th>sales</th>\n",
       "    </tr>\n",
       "  </thead>\n",
       "  <tbody>\n",
       "    <tr>\n",
       "      <th>0</th>\n",
       "      <td>3000888</td>\n",
       "      <td>0.000000</td>\n",
       "    </tr>\n",
       "    <tr>\n",
       "      <th>1</th>\n",
       "      <td>3000889</td>\n",
       "      <td>0.000000</td>\n",
       "    </tr>\n",
       "    <tr>\n",
       "      <th>2</th>\n",
       "      <td>3000890</td>\n",
       "      <td>2.444444</td>\n",
       "    </tr>\n",
       "    <tr>\n",
       "      <th>3</th>\n",
       "      <td>3000891</td>\n",
       "      <td>6969.555556</td>\n",
       "    </tr>\n",
       "    <tr>\n",
       "      <th>4</th>\n",
       "      <td>3000892</td>\n",
       "      <td>0.000000</td>\n",
       "    </tr>\n",
       "    <tr>\n",
       "      <th>...</th>\n",
       "      <td>...</td>\n",
       "      <td>...</td>\n",
       "    </tr>\n",
       "    <tr>\n",
       "      <th>28507</th>\n",
       "      <td>3029395</td>\n",
       "      <td>100.466555</td>\n",
       "    </tr>\n",
       "    <tr>\n",
       "      <th>28508</th>\n",
       "      <td>3029396</td>\n",
       "      <td>0.222222</td>\n",
       "    </tr>\n",
       "    <tr>\n",
       "      <th>28509</th>\n",
       "      <td>3029397</td>\n",
       "      <td>1406.046778</td>\n",
       "    </tr>\n",
       "    <tr>\n",
       "      <th>28510</th>\n",
       "      <td>3029398</td>\n",
       "      <td>56.555556</td>\n",
       "    </tr>\n",
       "    <tr>\n",
       "      <th>28511</th>\n",
       "      <td>3029399</td>\n",
       "      <td>3.960000</td>\n",
       "    </tr>\n",
       "  </tbody>\n",
       "</table>\n",
       "<p>28512 rows × 2 columns</p>\n",
       "</div>"
      ],
      "text/plain": [
       "            id        sales\n",
       "0      3000888     0.000000\n",
       "1      3000889     0.000000\n",
       "2      3000890     2.444444\n",
       "3      3000891  6969.555556\n",
       "4      3000892     0.000000\n",
       "...        ...          ...\n",
       "28507  3029395   100.466555\n",
       "28508  3029396     0.222222\n",
       "28509  3029397  1406.046778\n",
       "28510  3029398    56.555556\n",
       "28511  3029399     3.960000\n",
       "\n",
       "[28512 rows x 2 columns]"
      ]
     },
     "execution_count": 29,
     "metadata": {},
     "output_type": "execute_result"
    }
   ],
   "source": [
    "submission['sales'] = yhat\n",
    "submission"
   ]
  },
  {
   "cell_type": "code",
   "execution_count": 30,
   "id": "e00bf2e9",
   "metadata": {
    "execution": {
     "iopub.execute_input": "2022-08-16T05:52:25.023439Z",
     "iopub.status.busy": "2022-08-16T05:52:25.022502Z",
     "iopub.status.idle": "2022-08-16T05:52:25.091604Z",
     "shell.execute_reply": "2022-08-16T05:52:25.090315Z"
    },
    "papermill": {
     "duration": 0.089724,
     "end_time": "2022-08-16T05:52:25.094439",
     "exception": false,
     "start_time": "2022-08-16T05:52:25.004715",
     "status": "completed"
    },
    "tags": []
   },
   "outputs": [],
   "source": [
    "submission.to_csv('submission.csv', index=False)"
   ]
  },
  {
   "cell_type": "code",
   "execution_count": null,
   "id": "09354837",
   "metadata": {
    "papermill": {
     "duration": 0.016008,
     "end_time": "2022-08-16T05:52:25.126796",
     "exception": false,
     "start_time": "2022-08-16T05:52:25.110788",
     "status": "completed"
    },
    "tags": []
   },
   "outputs": [],
   "source": []
  }
 ],
 "metadata": {
  "kernelspec": {
   "display_name": "Python 3",
   "language": "python",
   "name": "python3"
  },
  "language_info": {
   "codemirror_mode": {
    "name": "ipython",
    "version": 3
   },
   "file_extension": ".py",
   "mimetype": "text/x-python",
   "name": "python",
   "nbconvert_exporter": "python",
   "pygments_lexer": "ipython3",
   "version": "3.7.12"
  },
  "papermill": {
   "default_parameters": {},
   "duration": 783.495885,
   "end_time": "2022-08-16T05:52:27.174466",
   "environment_variables": {},
   "exception": null,
   "input_path": "__notebook__.ipynb",
   "output_path": "__notebook__.ipynb",
   "parameters": {},
   "start_time": "2022-08-16T05:39:23.678581",
   "version": "2.3.4"
  }
 },
 "nbformat": 4,
 "nbformat_minor": 5
}
